{
 "cells": [
  {
   "cell_type": "markdown",
   "metadata": {},
   "source": [
    "# Baseline model - simple MLP\n"
   ]
  },
  {
   "cell_type": "markdown",
   "metadata": {},
   "source": [
    "Imports:"
   ]
  },
  {
   "cell_type": "code",
   "execution_count": 1,
   "metadata": {
    "ExecuteTime": {
     "end_time": "2024-11-09T13:47:34.405692Z",
     "start_time": "2024-11-09T13:47:34.399798Z"
    }
   },
   "outputs": [],
   "source": [
    "import copy\n",
    "import pandas as pd\n",
    "import numpy as np\n",
    "import pathlib\n",
    "import os\n",
    "from tqdm import tqdm\n",
    "\n",
    "import torch\n",
    "from torch.utils.data import Dataset, DataLoader\n",
    "import torch.nn as nn\n",
    "import torch.optim as optim\n",
    "\n",
    "from sklearn.preprocessing import StandardScaler, MinMaxScaler\n",
    "from sklearn.model_selection import train_test_split\n",
    "from sklearn.metrics import confusion_matrix\n",
    "from sklearn.metrics import accuracy_score, precision_score, recall_score, f1_score, roc_auc_score\n",
    "import matplotlib.pyplot as plt\n",
    "\n",
    "SEED = 42\n",
    "device = torch.device('cuda' if torch.cuda.is_available() else 'cpu')"
   ]
  },
  {
   "cell_type": "markdown",
   "metadata": {},
   "source": [
    "read data:"
   ]
  },
  {
   "cell_type": "code",
   "execution_count": 2,
   "metadata": {
    "ExecuteTime": {
     "end_time": "2024-11-09T13:48:21.792922Z",
     "start_time": "2024-11-09T13:47:34.469140Z"
    }
   },
   "outputs": [],
   "source": [
    "df_hard = pd.read_excel('all_data_long.xlsx')"
   ]
  },
  {
   "cell_type": "code",
   "execution_count": 3,
   "metadata": {
    "ExecuteTime": {
     "end_time": "2024-11-09T13:48:21.799073Z",
     "start_time": "2024-11-09T13:48:21.793929Z"
    }
   },
   "outputs": [
    {
     "data": {
      "text/plain": [
       "36240"
      ]
     },
     "execution_count": 3,
     "metadata": {},
     "output_type": "execute_result"
    }
   ],
   "source": [
    "df_hard['Fictive ID'].nunique()"
   ]
  },
  {
   "cell_type": "code",
   "execution_count": 4,
   "metadata": {
    "ExecuteTime": {
     "end_time": "2024-11-09T16:30:17.349724Z",
     "start_time": "2024-11-09T16:30:17.205057Z"
    }
   },
   "outputs": [],
   "source": [
    "all_df = copy.deepcopy(df_hard)\n",
    "all_df.columns = all_df.columns.str.replace(\"'\", \"\")\n",
    "\n",
    "features_to_start = ['year', 'מין', 'סוג פיקוח', ' פסיכומטרי רב תחומי', 'פסיכומטרי כמותי', 'פסיכומטרי מילולי',\n",
    "               'שפת פסיכומטרי', 'בגרות', 'ציון מכינה', 'ניקוד רל\"ק', 'שנת לידה', 'פקולטה', 'חוג', 'מסלול', 'משקולל קיים', 'נשר חיצונית']\n",
    "\n",
    "df = all_df[features_to_start]\n",
    "\n",
    "feature_names_to_replace = {\"מין\": \"gender\", 'סוג פיקוח': 'supervision_type',\n",
    "                        ' פסיכומטרי רב תחומי': 'psico_rav', 'פסיכומטרי כמותי':'psico_camul',\n",
    "                        'פסיכומטרי מילולי':'psico_verb', 'שפת פסיכומטרי': 'psico_leng',\n",
    "                        'בגרות':'bag', 'ציון מכינה':'preparatory_score', 'ניקוד רל\"ק':'ralak_score',\n",
    "                        'שנת לידה':'birth_year', 'פקולטה':'faculty',\n",
    "                        'חוג':'hug', 'מסלול':'study_track', 'משקולל קיים':'weighted_score', 'נשר חיצונית':'dropouts'}\n",
    "\n",
    "df = df.rename(columns=feature_names_to_replace)\n",
    "\n",
    "features_to_start_id = features_to_start.copy()\n",
    "features_to_start_id.append('Fictive ID')\n",
    "df_id = all_df[features_to_start_id]\n",
    "df_id = df_id.rename(columns=feature_names_to_replace)"
   ]
  },
  {
   "cell_type": "markdown",
   "metadata": {},
   "source": [
    "split to train and test:"
   ]
  },
  {
   "cell_type": "code",
   "execution_count": 5,
   "metadata": {
    "ExecuteTime": {
     "end_time": "2024-11-09T13:48:21.891516Z",
     "start_time": "2024-11-09T13:48:21.887889Z"
    }
   },
   "outputs": [],
   "source": [
    "def split_train_test(df):\n",
    "    X = df.drop('dropouts', axis=1)\n",
    "    Y = df['dropouts'].values\n",
    "    \n",
    "    X_train, X_test, y_train, y_test = train_test_split(X, Y, test_size=0.2, random_state=SEED)\n",
    "    \n",
    "    # Reset indices for compatibility\n",
    "    X_train = X_train.reset_index(drop=True)\n",
    "    X_test = X_test.reset_index(drop=True)\n",
    "    y_train = pd.Series(y_train).reset_index(drop=True)\n",
    "    y_test = pd.Series(y_test).reset_index(drop=True)\n",
    "    return X_train, X_test, y_train, y_test"
   ]
  },
  {
   "cell_type": "markdown",
   "metadata": {},
   "source": [
    "build base model:"
   ]
  },
  {
   "cell_type": "code",
   "execution_count": 6,
   "metadata": {
    "ExecuteTime": {
     "end_time": "2024-11-09T16:48:50.473388Z",
     "start_time": "2024-11-09T16:48:50.469703Z"
    }
   },
   "outputs": [],
   "source": [
    "class DropuotsDataset(Dataset):\n",
    "    def __init__(self, features, labels):\n",
    "        self.features = features\n",
    "        self.labels = labels\n",
    "\n",
    "    def __len__(self):\n",
    "        return len(self.labels)\n",
    "\n",
    "    def __getitem__(self, idx):\n",
    "        return {\n",
    "            'features': torch.tensor(self.features.iloc[idx].values, dtype=torch.float32),\n",
    "            'label': torch.tensor(self.labels[idx], dtype=torch.float32)\n",
    "        }\n"
   ]
  },
  {
   "cell_type": "code",
   "execution_count": 7,
   "metadata": {
    "ExecuteTime": {
     "end_time": "2024-11-09T16:48:52.226703Z",
     "start_time": "2024-11-09T16:48:52.223778Z"
    }
   },
   "outputs": [],
   "source": [
    "class BaseModelNN(nn.Module):\n",
    "    def __init__(self, input_dim):\n",
    "        super(BaseModelNN, self).__init__()\n",
    "        \n",
    "        # Fully connected layers\n",
    "        self.fc1 = nn.Linear(input_dim, 12)\n",
    "        self.fc2 = nn.Linear(12, 6)\n",
    "        self.output = nn.Linear(6, 1)\n",
    "\n",
    "    def forward(self, features):\n",
    "        x = torch.relu(self.fc1(features))\n",
    "        x = torch.relu(self.fc2(x))\n",
    "        x = torch.sigmoid(self.output(x))  # For binary classification\n",
    "        return x"
   ]
  },
  {
   "cell_type": "markdown",
   "metadata": {},
   "source": [
    "training loop:"
   ]
  },
  {
   "cell_type": "code",
   "execution_count": 8,
   "metadata": {
    "ExecuteTime": {
     "end_time": "2024-11-09T16:49:04.001710Z",
     "start_time": "2024-11-09T16:49:03.997217Z"
    }
   },
   "outputs": [],
   "source": [
    "def train_model(model, train_loader, criterion, optimizer, epochs, device):\n",
    "    model.to(device)  # Move model to the specified device (CPU or GPU)\n",
    "\n",
    "    for epoch in range(epochs):\n",
    "        model.train()  # Set model to training mode\n",
    "        running_loss = 0.0\n",
    "        \n",
    "        for batch in train_loader:\n",
    "            # Move data to the same device as the model\n",
    "            features = batch['features'].to(device)\n",
    "            labels = batch['label'].to(device).view(-1, 1)  # Ensure labels are shaped as (batch_size, 1)\n",
    "\n",
    "            # Zero the parameter gradients\n",
    "            optimizer.zero_grad()\n",
    "\n",
    "            # Forward pass\n",
    "            outputs = model(features)\n",
    "            loss = criterion(outputs, labels)\n",
    "\n",
    "            # Backward pass and optimization\n",
    "            loss.backward()\n",
    "            optimizer.step()\n",
    "\n",
    "            # Accumulate the loss\n",
    "            running_loss += loss.item()\n",
    "\n",
    "        # Calculate average loss for the epoch\n",
    "        avg_loss = running_loss / len(train_loader)\n",
    "        print(f\"Epoch [{epoch+1}/{epochs}], Loss: {avg_loss:.4f}\")\n",
    "\n",
    "    print(\"Training complete.\")"
   ]
  },
  {
   "cell_type": "markdown",
   "metadata": {},
   "source": [
    "## Baseline:"
   ]
  },
  {
   "cell_type": "markdown",
   "metadata": {},
   "source": [
    "take only numeric features, drop duplicates:"
   ]
  },
  {
   "cell_type": "code",
   "execution_count": 9,
   "metadata": {
    "ExecuteTime": {
     "end_time": "2024-11-09T16:23:57.568621Z",
     "start_time": "2024-11-09T16:23:57.529191Z"
    }
   },
   "outputs": [],
   "source": [
    "numeric_features = df.select_dtypes(include=['number']).columns\n",
    "# drop hug column:\n",
    "numeric_features = numeric_features[~numeric_features.str.fullmatch('hug')]\n",
    "# drop duplicates\n",
    "numeric_df = df[numeric_features].drop_duplicates()\n",
    "# train test split:\n",
    "X_train, X_test, y_train, y_test = split_train_test(numeric_df)"
   ]
  },
  {
   "cell_type": "code",
   "execution_count": 10,
   "metadata": {
    "ExecuteTime": {
     "end_time": "2024-11-09T16:48:58.300028Z",
     "start_time": "2024-11-09T16:48:58.294568Z"
    }
   },
   "outputs": [],
   "source": [
    "# Create DataLoader\n",
    "batch_size = 32\n",
    "train_dataset = DropuotsDataset(X_train, y_train)\n",
    "train_loader = DataLoader(train_dataset, batch_size=batch_size, shuffle=True)\n",
    "\n",
    "test_dataset = DropuotsDataset(X_test, y_test)\n",
    "test_loader = DataLoader(test_dataset, batch_size=batch_size)"
   ]
  },
  {
   "cell_type": "markdown",
   "metadata": {},
   "source": [
    "initialize model and optimizer:"
   ]
  },
  {
   "cell_type": "code",
   "execution_count": 11,
   "metadata": {
    "ExecuteTime": {
     "end_time": "2024-11-09T16:49:02.266736Z",
     "start_time": "2024-11-09T16:49:02.261715Z"
    }
   },
   "outputs": [],
   "source": [
    "model = BaseModelNN(input_dim=X_train.shape[1])\n",
    "criterion = nn.BCELoss()  # For binary classification\n",
    "optimizer = optim.SGD(model.parameters(), lr=0.01, momentum=0.9)"
   ]
  },
  {
   "cell_type": "markdown",
   "metadata": {},
   "source": [
    "train:"
   ]
  },
  {
   "cell_type": "code",
   "execution_count": 12,
   "metadata": {
    "ExecuteTime": {
     "end_time": "2024-11-09T16:49:50.799570Z",
     "start_time": "2024-11-09T16:49:05.091727Z"
    }
   },
   "outputs": [
    {
     "name": "stdout",
     "output_type": "stream",
     "text": [
      "Epoch [1/10], Loss: 11.8434\n",
      "Epoch [2/10], Loss: 5.4096\n",
      "Epoch [3/10], Loss: 5.4108\n",
      "Epoch [4/10], Loss: 5.4096\n",
      "Epoch [5/10], Loss: 5.4108\n",
      "Epoch [6/10], Loss: 5.4104\n",
      "Epoch [7/10], Loss: 5.4108\n",
      "Epoch [8/10], Loss: 5.4100\n",
      "Epoch [9/10], Loss: 5.4100\n",
      "Epoch [10/10], Loss: 5.4100\n",
      "Training complete.\n"
     ]
    }
   ],
   "source": [
    "train_model(model, train_loader, criterion, optimizer, epochs=10, device=device)"
   ]
  },
  {
   "cell_type": "markdown",
   "metadata": {},
   "source": [
    "evaluation:"
   ]
  },
  {
   "cell_type": "code",
   "execution_count": 14,
   "metadata": {
    "ExecuteTime": {
     "end_time": "2024-11-09T16:55:01.843035Z",
     "start_time": "2024-11-09T16:55:01.837490Z"
    }
   },
   "outputs": [],
   "source": [
    "\n",
    "def evaluate_model(model, data_loader, criterion, device, threshold=0.05):\n",
    "    model.eval()  # Set model to evaluation mode\n",
    "    total_loss = 0.0\n",
    "    all_labels = []\n",
    "    all_predictions = []\n",
    "    all_probs = []\n",
    "\n",
    "    with torch.no_grad():\n",
    "        for batch in tqdm(data_loader):\n",
    "            # Move data to the same device as the model\n",
    "            features = batch['features'].to(device)\n",
    "            labels = batch['label'].to(device).view(-1, 1)\n",
    "\n",
    "            # Forward pass\n",
    "            outputs = model(features)\n",
    "            loss = criterion(outputs, labels)\n",
    "            total_loss += loss.item()\n",
    "\n",
    "            # Get predictions and probabilities\n",
    "            probabilities = outputs.squeeze().cpu().numpy()  # Convert to numpy array\n",
    "            predictions = (probabilities >= threshold).astype(int)  # Threshold for binary classification\n",
    "            labels = labels.cpu().numpy()  # Convert labels to numpy\n",
    "\n",
    "            # Store results\n",
    "            all_labels.extend(labels)\n",
    "            all_predictions.extend(predictions)\n",
    "            all_probs.extend(probabilities)\n",
    "\n",
    "    # Compute average loss\n",
    "    avg_loss = total_loss / len(data_loader)\n",
    "\n",
    "    # Calculate evaluation metrics\n",
    "    accuracy = accuracy_score(all_labels, all_predictions)\n",
    "    precision = precision_score(all_labels, all_predictions)\n",
    "    recall = recall_score(all_labels, all_predictions)\n",
    "    f1 = f1_score(all_labels, all_predictions)\n",
    "    roc_auc = roc_auc_score(all_labels, all_probs)\n",
    "\n",
    "    print(f\"Evaluation Results:\")\n",
    "    print(f\"Loss: {avg_loss:.4f}\")\n",
    "    print(f\"Accuracy: {accuracy:.4f}\")\n",
    "    print(f\"Precision: {precision:.4f}\")\n",
    "    print(f\"Recall: {recall:.4f}\")\n",
    "    print(f\"F1 Score: {f1:.4f}\")\n",
    "    print(f\"ROC AUC: {roc_auc:.4f}\")\n",
    "\n",
    "    return {'loss': avg_loss,\n",
    "            'accuracy_score': accuracy,\n",
    "            'precision_score': precision,\n",
    "            'recall': recall,\n",
    "            'f1_score': f1,\n",
    "            'roc_auc': roc_auc,\n",
    "            'lables': all_labels,\n",
    "            'predictions': all_predictions,\n",
    "            'probabilities': all_probs}\n"
   ]
  },
  {
   "cell_type": "code",
   "execution_count": 15,
   "metadata": {
    "ExecuteTime": {
     "end_time": "2024-11-09T16:55:13.040051Z",
     "start_time": "2024-11-09T16:55:11.815557Z"
    }
   },
   "outputs": [
    {
     "name": "stderr",
     "output_type": "stream",
     "text": [
      "100%|██████████| 264/264 [00:00<00:00, 278.07it/s]\n",
      "c:\\Users\\nadavkat\\OneDrive - Intel Corporation\\Documents\\Learning\\University\\University-Dropouts-Prediction\\.venv\\Lib\\site-packages\\sklearn\\metrics\\_classification.py:1531: UndefinedMetricWarning: Precision is ill-defined and being set to 0.0 due to no predicted samples. Use `zero_division` parameter to control this behavior.\n",
      "  _warn_prf(average, modifier, f\"{metric.capitalize()} is\", len(result))\n"
     ]
    },
    {
     "name": "stdout",
     "output_type": "stream",
     "text": [
      "Evaluation Results:\n",
      "Loss: 5.6593\n",
      "Accuracy: 0.9434\n",
      "Precision: 0.0000\n",
      "Recall: 0.0000\n",
      "F1 Score: 0.0000\n",
      "ROC AUC: 0.5000\n"
     ]
    }
   ],
   "source": [
    "test_eval_results = evaluate_model(model, test_loader, criterion, device)"
   ]
  },
  {
   "cell_type": "code",
   "execution_count": 16,
   "metadata": {
    "ExecuteTime": {
     "end_time": "2024-11-09T16:53:38.710924Z",
     "start_time": "2024-11-09T16:53:38.706901Z"
    }
   },
   "outputs": [
    {
     "data": {
      "text/plain": [
       "array([0.], dtype=float32)"
      ]
     },
     "execution_count": 16,
     "metadata": {},
     "output_type": "execute_result"
    }
   ],
   "source": [
    "np.unique(test_eval_results['probabilities'])"
   ]
  },
  {
   "cell_type": "markdown",
   "metadata": {},
   "source": [
    "this model practically predicts all students will drop. this is obviousley not good."
   ]
  },
  {
   "cell_type": "markdown",
   "metadata": {},
   "source": [
    "# Enhancements: \n",
    "change stochastic gradient decent fetchers to dill with the unbalances df\n",
    "\n",
    "learning rate from 0.01 to 0.001, \n",
    "\n",
    "set weight decay 0.0005\n",
    "\n",
    "change the threshold for binary classification from 0.5 to mean(y_train)"
   ]
  },
  {
   "cell_type": "code",
   "execution_count": 17,
   "metadata": {
    "ExecuteTime": {
     "end_time": "2024-11-09T14:12:23.264839Z",
     "start_time": "2024-11-09T14:12:04.876277Z"
    }
   },
   "outputs": [
    {
     "name": "stdout",
     "output_type": "stream",
     "text": [
      "Epoch [1/10], Loss: 14.1481\n",
      "Epoch [2/10], Loss: 14.2295\n",
      "Epoch [3/10], Loss: 14.2299\n",
      "Epoch [4/10], Loss: 14.2303\n",
      "Epoch [5/10], Loss: 14.2282\n",
      "Epoch [6/10], Loss: 14.2291\n",
      "Epoch [7/10], Loss: 14.2295\n",
      "Epoch [8/10], Loss: 14.2299\n",
      "Epoch [9/10], Loss: 14.2303\n",
      "Epoch [10/10], Loss: 14.2299\n",
      "Training complete.\n"
     ]
    },
    {
     "name": "stderr",
     "output_type": "stream",
     "text": [
      "100%|██████████| 264/264 [00:01<00:00, 241.39it/s]\n"
     ]
    },
    {
     "name": "stdout",
     "output_type": "stream",
     "text": [
      "Evaluation Results:\n",
      "Loss: 14.7399\n",
      "Accuracy: 0.8526\n",
      "Precision: 0.0536\n",
      "Recall: 0.0962\n",
      "F1 Score: 0.0688\n",
      "ROC AUC: 0.4971\n"
     ]
    }
   ],
   "source": [
    "batch_size = 32\n",
    "train_dataset = DropuotsDataset(X_train, y_train)\n",
    "train_loader = DataLoader(train_dataset, batch_size=batch_size, shuffle=True)\n",
    "\n",
    "test_dataset = DropuotsDataset(X_test, y_test)\n",
    "test_loader = DataLoader(test_dataset, batch_size=batch_size)\n",
    "\n",
    "model = BaseModelNN(input_dim=X_train.shape[1])\n",
    "criterion = nn.BCELoss()  # For binary classification\n",
    "optimizer = optim.SGD(model.parameters(), lr=0.001, momentum=0.9, weight_decay=0.0005)\n",
    "\n",
    "train_model(model, train_loader, criterion, optimizer, epochs=10, device=device)\n",
    "\n",
    "threshold = np.round(y_train.mean(), 3)\n",
    "test_eval_results = evaluate_model(model, test_loader, criterion, device, threshold=threshold)"
   ]
  },
  {
   "cell_type": "code",
   "execution_count": 18,
   "metadata": {
    "ExecuteTime": {
     "end_time": "2024-11-09T14:12:23.271920Z",
     "start_time": "2024-11-09T14:12:23.265848Z"
    }
   },
   "outputs": [
    {
     "data": {
      "text/plain": [
       "{np.float32(0.0), np.float32(1.0)}"
      ]
     },
     "execution_count": 18,
     "metadata": {},
     "output_type": "execute_result"
    }
   ],
   "source": [
    "set(test_eval_results['probabilities'])"
   ]
  },
  {
   "cell_type": "markdown",
   "metadata": {},
   "source": [
    "# Enhancements: \n",
    "change the model architecture and preprocess data to achive better results"
   ]
  },
  {
   "cell_type": "markdown",
   "metadata": {},
   "source": [
    "## add layers and neurons:"
   ]
  },
  {
   "cell_type": "code",
   "execution_count": 20,
   "metadata": {
    "ExecuteTime": {
     "end_time": "2024-11-09T14:17:38.971065Z",
     "start_time": "2024-11-09T14:17:38.964949Z"
    }
   },
   "outputs": [],
   "source": [
    "class MLPModelNN(nn.Module):\n",
    "    def __init__(self, input_dim):\n",
    "        super(MLPModelNN, self).__init__()\n",
    "        \n",
    "        # Fully connected layers\n",
    "        self.fc1 = nn.Linear(input_dim, 32)\n",
    "        self.fc2 = nn.Linear(32, 16)\n",
    "        self.fc3 = nn.Linear(16, 8)\n",
    "        self.fc4 = nn.Linear(8, 4)\n",
    "        self.fc5 = nn.Linear(4, 2)\n",
    "        self.output = nn.Linear(2, 1)\n",
    "\n",
    "    def forward(self, features):\n",
    "        x = torch.relu(self.fc1(features))\n",
    "        x = torch.relu(self.fc2(x))\n",
    "        x = torch.relu(self.fc3(x))\n",
    "        x = torch.relu(self.fc4(x))\n",
    "        x = torch.relu(self.fc5(x))\n",
    "        x = torch.sigmoid(self.output(x))  # For binary classification\n",
    "        return x\n",
    "\n",
    "\n",
    "batch_size = 32\n",
    "train_dataset = DropuotsDataset(X_train, y_train)\n",
    "train_loader = DataLoader(train_dataset, batch_size=batch_size, shuffle=True)\n",
    "\n",
    "test_dataset = DropuotsDataset(X_test, y_test)\n",
    "test_loader = DataLoader(test_dataset, batch_size=batch_size)\n",
    "\n",
    "model = MLPModelNN(input_dim=X_train.shape[1])\n",
    "criterion = nn.BCELoss()  # For binary classification\n",
    "optimizer = optim.SGD(model.parameters(), lr=0.01, momentum=0.9, weight_decay=0.0005)"
   ]
  },
  {
   "cell_type": "code",
   "execution_count": 21,
   "metadata": {
    "ExecuteTime": {
     "end_time": "2024-11-09T14:18:01.757863Z",
     "start_time": "2024-11-09T14:17:40.308922Z"
    }
   },
   "outputs": [
    {
     "name": "stdout",
     "output_type": "stream",
     "text": [
      "Epoch [1/10], Loss: 0.2341\n",
      "Epoch [2/10], Loss: 0.2105\n",
      "Epoch [3/10], Loss: 0.2105\n",
      "Epoch [4/10], Loss: 0.2105\n",
      "Epoch [5/10], Loss: 0.2105\n",
      "Epoch [6/10], Loss: 0.2105\n",
      "Epoch [7/10], Loss: 0.2105\n",
      "Epoch [8/10], Loss: 0.2105\n",
      "Epoch [9/10], Loss: 0.2105\n",
      "Epoch [10/10], Loss: 0.2105\n",
      "Training complete.\n"
     ]
    }
   ],
   "source": [
    "train_model(model, train_loader, criterion, optimizer, epochs=10, device=device)"
   ]
  },
  {
   "cell_type": "code",
   "execution_count": 27,
   "metadata": {},
   "outputs": [
    {
     "name": "stdout",
     "output_type": "stream",
     "text": [
      "threshold: 0.054\n"
     ]
    }
   ],
   "source": [
    "threshold = np.round(y_train.mean(), 3)\n",
    "print('threshold:', threshold)"
   ]
  },
  {
   "cell_type": "code",
   "execution_count": 26,
   "metadata": {
    "ExecuteTime": {
     "end_time": "2024-11-09T14:18:02.174987Z",
     "start_time": "2024-11-09T14:18:01.758870Z"
    }
   },
   "outputs": [
    {
     "name": "stderr",
     "output_type": "stream",
     "text": [
      "100%|██████████| 264/264 [00:00<00:00, 313.96it/s]\n"
     ]
    },
    {
     "name": "stdout",
     "output_type": "stream",
     "text": [
      "Evaluation Results:\n",
      "Loss: 0.2175\n",
      "Accuracy: 0.0566\n",
      "Precision: 0.0566\n",
      "Recall: 1.0000\n",
      "F1 Score: 0.1071\n",
      "ROC AUC: 0.5000\n"
     ]
    }
   ],
   "source": [
    "test_eval_results = evaluate_model(model, test_loader, criterion, device, threshold=threshold)"
   ]
  },
  {
   "cell_type": "code",
   "execution_count": 28,
   "metadata": {
    "ExecuteTime": {
     "end_time": "2024-11-09T14:18:37.031988Z",
     "start_time": "2024-11-09T14:18:37.018683Z"
    }
   },
   "outputs": [
    {
     "data": {
      "text/plain": [
       "{np.float32(0.05518694)}"
      ]
     },
     "execution_count": 28,
     "metadata": {},
     "output_type": "execute_result"
    }
   ],
   "source": [
    "# sum(test_eval_results['predictions'])/len(test_eval_results['predictions'])\n",
    "set(test_eval_results['probabilities'])"
   ]
  },
  {
   "cell_type": "markdown",
   "metadata": {},
   "source": [
    "It seems like adding layers dosent solve the problem, and the model is still not preforming well."
   ]
  },
  {
   "cell_type": "markdown",
   "metadata": {},
   "source": [
    "## preprocess data:\n",
    "The data preprocess is based on knowledge about this specific usecase and data, as revised by an SME\n",
    "we scaled the data with the following:\n",
    "1. create scaler for each hug & year in the training set\n",
    "2. create MinMaxScaler for year & age\n",
    "3. scale train & test using the scaler learned on the train\n",
    "4. for hug & year not in training - use a scaler learned on the entire train set"
   ]
  },
  {
   "cell_type": "code",
   "execution_count": 29,
   "metadata": {
    "ExecuteTime": {
     "end_time": "2024-11-09T16:46:19.071792Z",
     "start_time": "2024-11-09T16:46:19.067472Z"
    }
   },
   "outputs": [],
   "source": [
    "def preprocess_data(data, scaler_by_group=None, year_scaler=None, train_scaler=None, test_mode=False):\n",
    "    df = data.copy()\n",
    "    \n",
    "    # remove samples with 0 bagrut score:\n",
    "    df = df[df['bag'] != 0]# remove 1252 samples\n",
    "    \n",
    "    # df['supervision_type'] = np.where(df['supervision_type'].isna(), 'missing', df['supervision_type'])\n",
    "    \n",
    "    # df['ralak'] = np.where(df['ralak_score'] >= 30, 1, 0)\n",
    "    # df.pop('ralak_score')\n",
    "    \n",
    "    # learned in preparatory at huji:\n",
    "    df['preparatory'] = np.where(df['preparatory_score'] > 0, 1, 0)\n",
    "    # df.pop('preparatory_score')\n",
    "    \n",
    "    # create age feature:\n",
    "    df['age'] = df['year'] - df['birth_year']\n",
    "    # df.pop('birth_year')\n",
    "    # df.pop('חוג')\n",
    "    # df.pop('פקולטה')\n",
    "    \n",
    "    # encode categorical binary variables:\n",
    "    df['study_track'] = np.where(df['study_track'] == 'חד חוגי', 0, 1)\n",
    "    df['gender'] = np.where(df['gender'] == 'ז', 0, 1)\n",
    "    \n",
    "    cols_to_scale = ['psico_rav', 'psico_camul', 'psico_verb', 'bag', 'preparatory_score', 'ralak_score', 'age', 'weighted_score']    \n",
    "    df.loc[:, cols_to_scale] = df[cols_to_scale].astype('float64')\n",
    "    df.loc[:, ['year', 'birth_year']] = df[['year', 'birth_year']].astype('float64')\n",
    "    \n",
    "    groups = df.groupby(['hug_num', 'year']).groups\n",
    "    \n",
    "    if not test_mode:\n",
    "        scaler_by_group = {group: StandardScaler().fit(df.loc[groups[group], cols_to_scale]) for group in groups.keys()}\n",
    "        year_scaler = MinMaxScaler().fit(df[['year', 'birth_year']])\n",
    "        train_scaler = StandardScaler().fit(df.loc[:, cols_to_scale])\n",
    "    for group in groups.keys():\n",
    "        if group in scaler_by_group:\n",
    "            scaler = scaler_by_group[group]\n",
    "            df.loc[groups[group], cols_to_scale] = scaler.transform(df.loc[groups[group], cols_to_scale])\n",
    "        else:\n",
    "            df.loc[groups[group], cols_to_scale] = train_scaler.transform(df.loc[groups[group], cols_to_scale])\n",
    "            \n",
    "    \n",
    "    df[['year', 'birth_year']] = year_scaler.transform(df[['year', 'birth_year']])\n",
    "    \n",
    "    if not test_mode:\n",
    "        return df, scaler_by_group, year_scaler, train_scaler\n",
    "    else:\n",
    "        return df"
   ]
  },
  {
   "cell_type": "code",
   "execution_count": 44,
   "metadata": {
    "ExecuteTime": {
     "end_time": "2024-11-09T16:48:35.174475Z",
     "start_time": "2024-11-09T16:48:30.725859Z"
    }
   },
   "outputs": [
    {
     "name": "stderr",
     "output_type": "stream",
     "text": [
      "C:\\Users\\nadavkat\\AppData\\Local\\Temp\\ipykernel_27000\\3474564085.py:39: FutureWarning: Setting an item of incompatible dtype is deprecated and will raise an error in a future version of pandas. Value '[ 0.61723291  0.23009568  0.51336683 -0.78968043  0.5558575   0.47087615\n",
      " -0.22313815  0.51808801  0.37645244  0.33868295  0.65972358  0.47559734\n",
      "  0.78247441 -2.72064539  0.5228092  -0.19481103 -2.72064539  0.21593213\n",
      "  0.37173125]' has dtype incompatible with int64, please explicitly cast to a compatible dtype first.\n",
      "  df.loc[groups[group], cols_to_scale] = scaler.transform(df.loc[groups[group], cols_to_scale])\n",
      "C:\\Users\\nadavkat\\AppData\\Local\\Temp\\ipykernel_27000\\3474564085.py:39: FutureWarning: Setting an item of incompatible dtype is deprecated and will raise an error in a future version of pandas. Value '[ 0.63629224  0.25819076  0.51025841 -0.5416393   0.57327532  0.5005635\n",
      " -0.26533437  0.56358041  0.25819076  0.20971621  0.65568206  0.41330931\n",
      "  0.88351244 -2.73268891  0.45208895 -0.34774111 -2.73268891  0.29697039\n",
      "  0.40846186]' has dtype incompatible with int64, please explicitly cast to a compatible dtype first.\n",
      "  df.loc[groups[group], cols_to_scale] = scaler.transform(df.loc[groups[group], cols_to_scale])\n",
      "C:\\Users\\nadavkat\\AppData\\Local\\Temp\\ipykernel_27000\\3474564085.py:39: FutureWarning: Setting an item of incompatible dtype is deprecated and will raise an error in a future version of pandas. Value '[ 0.58912001  0.19950952  0.51119791 -0.96015464  0.53869983  0.43785947\n",
      " -0.18551732  0.47452869  0.47911234  0.45619408  0.6578748   0.53411617\n",
      "  0.67620941 -2.7019427   0.58912001 -0.05259138 -2.7019427   0.13075473\n",
      "  0.3278518 ]' has dtype incompatible with int64, please explicitly cast to a compatible dtype first.\n",
      "  df.loc[groups[group], cols_to_scale] = scaler.transform(df.loc[groups[group], cols_to_scale])\n",
      "C:\\Users\\nadavkat\\AppData\\Local\\Temp\\ipykernel_27000\\3474564085.py:39: FutureWarning: Setting an item of incompatible dtype is deprecated and will raise an error in a future version of pandas. Value '[-1.2165595   0.35053409 -0.0412393  -1.60833289 -0.0412393   0.35053409\n",
      "  0.35053409  1.91762768 -0.4330127  -0.0412393   1.13408089 -0.8247861\n",
      "  0.35053409  2.30940108 -0.0412393  -0.0412393  -1.60833289 -0.8247861\n",
      " -0.0412393 ]' has dtype incompatible with int64, please explicitly cast to a compatible dtype first.\n",
      "  df.loc[groups[group], cols_to_scale] = scaler.transform(df.loc[groups[group], cols_to_scale])\n",
      "C:\\Users\\nadavkat\\AppData\\Local\\Temp\\ipykernel_27000\\3474564085.py:39: FutureWarning: Setting an item of incompatible dtype is deprecated and will raise an error in a future version of pandas. Value '[ 0.82901641  0.2322323   0.42138908 -0.85555745  0.61289649  0.44420404\n",
      " -0.04237688  0.55343932  0.19849381  0.3262576   0.35349728  0.56947893\n",
      "  0.83026086 -2.72002382  0.3996803   0.05552005 -2.72002382  0.0401718\n",
      "  0.47144372]' has dtype incompatible with int64, please explicitly cast to a compatible dtype first.\n",
      "  df.loc[groups[group], cols_to_scale] = scaler.transform(df.loc[groups[group], cols_to_scale])\n",
      "C:\\Users\\nadavkat\\AppData\\Local\\Temp\\ipykernel_27000\\3474564085.py:39: FutureWarning: Setting an item of incompatible dtype is deprecated and will raise an error in a future version of pandas. Value '[-0.25 -0.25 -0.25 -0.25 -0.25 -0.25 -0.25 -0.25 -0.25 -0.25 -0.25 -0.25\n",
      " -0.25 -0.25 -0.25 -0.25  4.  ]' has dtype incompatible with int64, please explicitly cast to a compatible dtype first.\n",
      "  df.loc[groups[group], cols_to_scale] = scaler.transform(df.loc[groups[group], cols_to_scale])\n",
      "C:\\Users\\nadavkat\\AppData\\Local\\Temp\\ipykernel_27000\\3474564085.py:39: FutureWarning: Setting an item of incompatible dtype is deprecated and will raise an error in a future version of pandas. Value '[-2.72064539  0.37645244]' has dtype incompatible with int64, please explicitly cast to a compatible dtype first.\n",
      "  df.loc[groups[group], cols_to_scale] = scaler.transform(df.loc[groups[group], cols_to_scale])\n",
      "C:\\Users\\nadavkat\\AppData\\Local\\Temp\\ipykernel_27000\\3474564085.py:39: FutureWarning: Setting an item of incompatible dtype is deprecated and will raise an error in a future version of pandas. Value '[-2.73268891  0.37452967]' has dtype incompatible with int64, please explicitly cast to a compatible dtype first.\n",
      "  df.loc[groups[group], cols_to_scale] = scaler.transform(df.loc[groups[group], cols_to_scale])\n",
      "C:\\Users\\nadavkat\\AppData\\Local\\Temp\\ipykernel_27000\\3474564085.py:39: FutureWarning: Setting an item of incompatible dtype is deprecated and will raise an error in a future version of pandas. Value '[-2.7019427   0.36910467]' has dtype incompatible with int64, please explicitly cast to a compatible dtype first.\n",
      "  df.loc[groups[group], cols_to_scale] = scaler.transform(df.loc[groups[group], cols_to_scale])\n",
      "C:\\Users\\nadavkat\\AppData\\Local\\Temp\\ipykernel_27000\\3474564085.py:39: FutureWarning: Setting an item of incompatible dtype is deprecated and will raise an error in a future version of pandas. Value '[ 1.13408089 -0.4330127 ]' has dtype incompatible with int64, please explicitly cast to a compatible dtype first.\n",
      "  df.loc[groups[group], cols_to_scale] = scaler.transform(df.loc[groups[group], cols_to_scale])\n",
      "C:\\Users\\nadavkat\\AppData\\Local\\Temp\\ipykernel_27000\\3474564085.py:39: FutureWarning: Setting an item of incompatible dtype is deprecated and will raise an error in a future version of pandas. Value '[-2.72002382  0.00795431]' has dtype incompatible with int64, please explicitly cast to a compatible dtype first.\n",
      "  df.loc[groups[group], cols_to_scale] = scaler.transform(df.loc[groups[group], cols_to_scale])\n",
      "C:\\Users\\nadavkat\\AppData\\Local\\Temp\\ipykernel_27000\\3474564085.py:39: FutureWarning: Setting an item of incompatible dtype is deprecated and will raise an error in a future version of pandas. Value '[-0.25 -0.25 -0.25 -0.25]' has dtype incompatible with int64, please explicitly cast to a compatible dtype first.\n",
      "  df.loc[groups[group], cols_to_scale] = scaler.transform(df.loc[groups[group], cols_to_scale])\n"
     ]
    }
   ],
   "source": [
    "df = df[df['bag'] != 0]# remove 1252 samples\n",
    "df_prep = copy.deepcopy(df)\n",
    "\n",
    "df_prep = df_prep.drop('psico_leng', axis=1)\n",
    "df_prep = df_prep.drop('supervision_type', axis=1)\n",
    "df_prep['hug_num'] = df['hug']\n",
    "\n",
    "df_prep = pd.get_dummies(df_prep, columns=['hug', 'faculty'], dtype=float)\n",
    "\n",
    "X_train, X_test, y_train, y_test = split_train_test(df_prep)\n",
    "X_train, scaler_by_group, year_scaler, train_scaler = preprocess_data(X_train, test_mode=False)\n",
    "\n",
    "X_train = X_train.drop('hug_num', axis=1)\n",
    "\n",
    "X_test = preprocess_data(X_test, scaler_by_group=scaler_by_group, year_scaler=year_scaler, train_scaler=train_scaler, test_mode=True)\n",
    "X_test = X_test.drop('hug_num', axis=1)\n"
   ]
  },
  {
   "cell_type": "code",
   "execution_count": 45,
   "metadata": {
    "ExecuteTime": {
     "end_time": "2024-11-09T16:19:55.981030Z",
     "start_time": "2024-11-09T16:19:55.764651Z"
    }
   },
   "outputs": [],
   "source": [
    "# Create DataLoader\n",
    "numeric_features = X_train.select_dtypes(include=['number']).columns\n",
    "\n",
    "batch_size = 32\n",
    "train_dataset = DropuotsDataset(X_train[numeric_features], y_train)\n",
    "train_loader = DataLoader(train_dataset, batch_size=batch_size, shuffle=True)\n",
    "\n",
    "test_dataset = DropuotsDataset(X_test[numeric_features], y_test)\n",
    "test_loader = DataLoader(test_dataset, batch_size=batch_size)"
   ]
  },
  {
   "cell_type": "markdown",
   "metadata": {},
   "source": [
    "try MLP again with scailing:"
   ]
  },
  {
   "cell_type": "code",
   "execution_count": 60,
   "metadata": {
    "ExecuteTime": {
     "end_time": "2024-11-09T16:19:58.428603Z",
     "start_time": "2024-11-09T16:19:58.382061Z"
    }
   },
   "outputs": [],
   "source": [
    "class MLPModelNN(nn.Module):\n",
    "    def __init__(self, input_dim):\n",
    "        super(MLPModelNN, self).__init__()\n",
    "        \n",
    "        # Fully connected layers\n",
    "        self.fc1 = nn.Linear(input_dim, 32)\n",
    "        self.fc2 = nn.Linear(32, 16)\n",
    "        self.fc3 = nn.Linear(16, 8)\n",
    "        self.fc4 = nn.Linear(8, 4)\n",
    "        self.fc5 = nn.Linear(4, 2)\n",
    "        self.output = nn.Linear(2, 1)\n",
    "\n",
    "    def forward(self, features):\n",
    "        x = torch.relu(self.fc1(features))\n",
    "        x = torch.relu(self.fc2(x))\n",
    "        x = torch.relu(self.fc3(x))\n",
    "        x = torch.relu(self.fc4(x))\n",
    "        x = torch.relu(self.fc5(x))\n",
    "        x = torch.sigmoid(self.output(x))  # For binary classification\n",
    "        return x\n",
    "\n",
    "\n",
    "model = MLPModelNN(input_dim=X_train[numeric_features].shape[1])\n",
    "criterion = nn.BCELoss()  # For binary classification\n",
    "optimizer = optim.SGD(model.parameters(), lr=0.001, weight_decay=0.0001)"
   ]
  },
  {
   "cell_type": "code",
   "execution_count": 61,
   "metadata": {},
   "outputs": [
    {
     "name": "stdout",
     "output_type": "stream",
     "text": [
      "Epoch [1/25], Loss: 0.6924\n",
      "Epoch [2/25], Loss: 0.4939\n",
      "Epoch [3/25], Loss: 0.3892\n",
      "Epoch [4/25], Loss: 0.3296\n",
      "Epoch [5/25], Loss: 0.2934\n",
      "Epoch [6/25], Loss: 0.2699\n",
      "Epoch [7/25], Loss: 0.2539\n",
      "Epoch [8/25], Loss: 0.2427\n",
      "Epoch [9/25], Loss: 0.2345\n",
      "Epoch [10/25], Loss: 0.2285\n",
      "Epoch [11/25], Loss: 0.2239\n",
      "Epoch [12/25], Loss: 0.2204\n",
      "Epoch [13/25], Loss: 0.2176\n",
      "Epoch [14/25], Loss: 0.2153\n",
      "Epoch [15/25], Loss: 0.2136\n",
      "Epoch [16/25], Loss: 0.2122\n",
      "Epoch [17/25], Loss: 0.2110\n",
      "Epoch [18/25], Loss: 0.2101\n",
      "Epoch [19/25], Loss: 0.2093\n",
      "Epoch [20/25], Loss: 0.2087\n",
      "Epoch [21/25], Loss: 0.2081\n",
      "Epoch [22/25], Loss: 0.2077\n",
      "Epoch [23/25], Loss: 0.2073\n",
      "Epoch [24/25], Loss: 0.2070\n",
      "Epoch [25/25], Loss: 0.2067\n",
      "Training complete.\n"
     ]
    }
   ],
   "source": [
    "train_model(model, train_loader, criterion, optimizer, epochs=25, device=device)"
   ]
  },
  {
   "cell_type": "code",
   "execution_count": 62,
   "metadata": {},
   "outputs": [
    {
     "name": "stderr",
     "output_type": "stream",
     "text": [
      "100%|██████████| 340/340 [00:02<00:00, 115.28it/s]\n"
     ]
    },
    {
     "name": "stdout",
     "output_type": "stream",
     "text": [
      "Evaluation Results:\n",
      "Loss: 0.2091\n",
      "Accuracy: 0.0532\n",
      "Precision: 0.0532\n",
      "Recall: 1.0000\n",
      "F1 Score: 0.1010\n",
      "ROC AUC: 0.5024\n"
     ]
    }
   ],
   "source": [
    "test_eval_results = evaluate_model(model, test_loader, criterion, device, threshold=0.05)"
   ]
  },
  {
   "cell_type": "code",
   "execution_count": 63,
   "metadata": {
    "ExecuteTime": {
     "end_time": "2024-11-09T14:25:38.429767Z",
     "start_time": "2024-11-09T14:25:38.052951Z"
    }
   },
   "outputs": [
    {
     "data": {
      "image/png": "[encoded data removed]",
      "text/plain": [
       "<Figure size 640x480 with 2 Axes>"
      ]
     },
     "metadata": {},
     "output_type": "display_data"
    }
   ],
   "source": [
    "# plot the probabilities of the model and color each point by the true label, and add legend to the plot:\n",
    "plt.scatter(range(len(test_eval_results['probabilities'])), test_eval_results['probabilities'], c=test_eval_results['lables'], cmap='coolwarm')\n",
    "plt.colorbar()\n",
    "plt.xlabel('Sample Index')\n",
    "plt.ylabel('Predicted Probability')\n",
    "plt.title('Predicted Probabilities vs. Sample Index')\n",
    "plt.legend(['True Label 0', 'True Label 1'], loc='upper right')\n",
    "plt.show()\n"
   ]
  },
  {
   "cell_type": "markdown",
   "metadata": {},
   "source": [
    "maybe add class weight and use BCEWithLogitLoss, need to add pos_weight argument. "
   ]
  },
  {
   "cell_type": "markdown",
   "metadata": {},
   "source": [
    "## Add weight dropouts and :"
   ]
  },
  {
   "cell_type": "code",
   "execution_count": 98,
   "metadata": {},
   "outputs": [],
   "source": [
    "import torch.nn.functional as F\n",
    "\n",
    "class EnhancedMLPModelNN(nn.Module):\n",
    "    def __init__(self, input_dim, one_hot_idx, one_hot_dim):\n",
    "        super(EnhancedMLPModelNN, self).__init__()\n",
    "        \n",
    "        # Locally connected layer for one-hot encoded features\n",
    "        self.local_fc = nn.Linear(np.sum(one_hot_idx), one_hot_dim)  # One-hot encoding dimension\n",
    "        self.input_dim = input_dim\n",
    "        self.one_hot_dim = one_hot_dim\n",
    "        self.one_hot_idx = one_hot_idx\n",
    "        \n",
    "        # Fully connected layers\n",
    "        self.fc1 = nn.Linear(input_dim - np.sum(one_hot_idx) + one_hot_dim, 32)\n",
    "        self.fc2 = nn.Linear(32, 16)\n",
    "        self.fc3 = nn.Linear(16, 8)\n",
    "        self.fc4 = nn.Linear(8, 4)\n",
    "        self.fc5 = nn.Linear(4, 2)\n",
    "        self.output = nn.Linear(2, 1)\n",
    "        \n",
    "        # Dropout layers\n",
    "        self.dropout1 = nn.Dropout(0.3)\n",
    "        self.dropout2 = nn.Dropout(0.3)\n",
    "        self.dropout3 = nn.Dropout(0.3)\n",
    "\n",
    "    def forward(self, features):\n",
    "        # Split features into numeric and one-hot parts\n",
    "        numeric_features = features[:, ~self.one_hot_idx]\n",
    "        one_hot_features = features[:, self.one_hot_idx]\n",
    "\n",
    "        # Process one-hot encoded features with a locally connected layer\n",
    "        one_hot_out = F.relu(self.local_fc(one_hot_features))\n",
    "        \n",
    "        # Concatenate back the numeric features\n",
    "        x = torch.cat((numeric_features, one_hot_out), dim=1)\n",
    "\n",
    "        # Forward pass with skip connections\n",
    "        x1 = F.relu(self.fc1(x))\n",
    "        x1 = self.dropout1(x1)\n",
    "\n",
    "        x2 = F.relu(self.fc2(x1))\n",
    "        x2 = self.dropout2(x2 + x1)  # Skip connection from x1 to x2\n",
    "\n",
    "        x3 = F.relu(self.fc3(x2))\n",
    "        x3 = self.dropout3(x3 + x2)  # Skip connection from x2 to x3\n",
    "\n",
    "        x4 = F.relu(self.fc4(x3))\n",
    "        x5 = F.relu(self.fc5(x4))\n",
    "\n",
    "        # Output layer\n",
    "        output = torch.sigmoid(self.output(x5))\n",
    "        \n",
    "        return output\n"
   ]
  },
  {
   "cell_type": "code",
   "execution_count": 87,
   "metadata": {},
   "outputs": [],
   "source": [
    "one_hot_idx = np.where(X_train.columns.str.startswith('hug') | X_train.columns.str.startswith('faculty'))[0]\n",
    "one_hot_idx = X_train.columns.str.startswith('hug') | X_train.columns.str.startswith('faculty')"
   ]
  },
  {
   "cell_type": "code",
   "execution_count": 88,
   "metadata": {},
   "outputs": [
    {
     "data": {
      "text/plain": [
       "144"
      ]
     },
     "execution_count": 88,
     "metadata": {},
     "output_type": "execute_result"
    }
   ],
   "source": [
    "len(one_hot_idx)"
   ]
  },
  {
   "cell_type": "code",
   "execution_count": 89,
   "metadata": {},
   "outputs": [
    {
     "data": {
      "text/plain": [
       "(43476, 144)"
      ]
     },
     "execution_count": 89,
     "metadata": {},
     "output_type": "execute_result"
    }
   ],
   "source": [
    "X_train.shape"
   ]
  },
  {
   "cell_type": "code",
   "execution_count": 99,
   "metadata": {},
   "outputs": [],
   "source": [
    "model = EnhancedMLPModelNN(input_dim=X_train.shape[1], one_hot_idx=one_hot_idx, one_hot_dim=12)\n",
    "criterion = nn.BCELoss()  # For binary classification\n",
    "optimizer = optim.AdamW(model.parameters(), lr=0.001, weight_decay=0.0001)"
   ]
  },
  {
   "cell_type": "code",
   "execution_count": 100,
   "metadata": {},
   "outputs": [
    {
     "ename": "RuntimeError",
     "evalue": "The size of tensor a (16) must match the size of tensor b (32) at non-singleton dimension 1",
     "output_type": "error",
     "traceback": [
      "\u001b[1;31m---------------------------------------------------------------------------\u001b[0m",
      "\u001b[1;31mRuntimeError\u001b[0m                              Traceback (most recent call last)",
      "Cell \u001b[1;32mIn[100], line 1\u001b[0m\n\u001b[1;32m----> 1\u001b[0m \u001b[43mtrain_model\u001b[49m\u001b[43m(\u001b[49m\u001b[43mmodel\u001b[49m\u001b[43m,\u001b[49m\u001b[43m \u001b[49m\u001b[43mtrain_loader\u001b[49m\u001b[43m,\u001b[49m\u001b[43m \u001b[49m\u001b[43mcriterion\u001b[49m\u001b[43m,\u001b[49m\u001b[43m \u001b[49m\u001b[43moptimizer\u001b[49m\u001b[43m,\u001b[49m\u001b[43m \u001b[49m\u001b[43mepochs\u001b[49m\u001b[38;5;241;43m=\u001b[39;49m\u001b[38;5;241;43m10\u001b[39;49m\u001b[43m,\u001b[49m\u001b[43m \u001b[49m\u001b[43mdevice\u001b[49m\u001b[38;5;241;43m=\u001b[39;49m\u001b[43mdevice\u001b[49m\u001b[43m)\u001b[49m\n",
      "Cell \u001b[1;32mIn[8], line 17\u001b[0m, in \u001b[0;36mtrain_model\u001b[1;34m(model, train_loader, criterion, optimizer, epochs, device)\u001b[0m\n\u001b[0;32m     14\u001b[0m optimizer\u001b[38;5;241m.\u001b[39mzero_grad()\n\u001b[0;32m     16\u001b[0m \u001b[38;5;66;03m# Forward pass\u001b[39;00m\n\u001b[1;32m---> 17\u001b[0m outputs \u001b[38;5;241m=\u001b[39m \u001b[43mmodel\u001b[49m\u001b[43m(\u001b[49m\u001b[43mfeatures\u001b[49m\u001b[43m)\u001b[49m\n\u001b[0;32m     18\u001b[0m loss \u001b[38;5;241m=\u001b[39m criterion(outputs, labels)\n\u001b[0;32m     20\u001b[0m \u001b[38;5;66;03m# Backward pass and optimization\u001b[39;00m\n",
      "File \u001b[1;32mc:\\Users\\nadavkat\\OneDrive - Intel Corporation\\Documents\\Learning\\University\\University-Dropouts-Prediction\\.venv\\Lib\\site-packages\\torch\\nn\\modules\\module.py:1736\u001b[0m, in \u001b[0;36mModule._wrapped_call_impl\u001b[1;34m(self, *args, **kwargs)\u001b[0m\n\u001b[0;32m   1734\u001b[0m     \u001b[38;5;28;01mreturn\u001b[39;00m \u001b[38;5;28mself\u001b[39m\u001b[38;5;241m.\u001b[39m_compiled_call_impl(\u001b[38;5;241m*\u001b[39margs, \u001b[38;5;241m*\u001b[39m\u001b[38;5;241m*\u001b[39mkwargs)  \u001b[38;5;66;03m# type: ignore[misc]\u001b[39;00m\n\u001b[0;32m   1735\u001b[0m \u001b[38;5;28;01melse\u001b[39;00m:\n\u001b[1;32m-> 1736\u001b[0m     \u001b[38;5;28;01mreturn\u001b[39;00m \u001b[38;5;28;43mself\u001b[39;49m\u001b[38;5;241;43m.\u001b[39;49m\u001b[43m_call_impl\u001b[49m\u001b[43m(\u001b[49m\u001b[38;5;241;43m*\u001b[39;49m\u001b[43margs\u001b[49m\u001b[43m,\u001b[49m\u001b[43m \u001b[49m\u001b[38;5;241;43m*\u001b[39;49m\u001b[38;5;241;43m*\u001b[39;49m\u001b[43mkwargs\u001b[49m\u001b[43m)\u001b[49m\n",
      "File \u001b[1;32mc:\\Users\\nadavkat\\OneDrive - Intel Corporation\\Documents\\Learning\\University\\University-Dropouts-Prediction\\.venv\\Lib\\site-packages\\torch\\nn\\modules\\module.py:1747\u001b[0m, in \u001b[0;36mModule._call_impl\u001b[1;34m(self, *args, **kwargs)\u001b[0m\n\u001b[0;32m   1742\u001b[0m \u001b[38;5;66;03m# If we don't have any hooks, we want to skip the rest of the logic in\u001b[39;00m\n\u001b[0;32m   1743\u001b[0m \u001b[38;5;66;03m# this function, and just call forward.\u001b[39;00m\n\u001b[0;32m   1744\u001b[0m \u001b[38;5;28;01mif\u001b[39;00m \u001b[38;5;129;01mnot\u001b[39;00m (\u001b[38;5;28mself\u001b[39m\u001b[38;5;241m.\u001b[39m_backward_hooks \u001b[38;5;129;01mor\u001b[39;00m \u001b[38;5;28mself\u001b[39m\u001b[38;5;241m.\u001b[39m_backward_pre_hooks \u001b[38;5;129;01mor\u001b[39;00m \u001b[38;5;28mself\u001b[39m\u001b[38;5;241m.\u001b[39m_forward_hooks \u001b[38;5;129;01mor\u001b[39;00m \u001b[38;5;28mself\u001b[39m\u001b[38;5;241m.\u001b[39m_forward_pre_hooks\n\u001b[0;32m   1745\u001b[0m         \u001b[38;5;129;01mor\u001b[39;00m _global_backward_pre_hooks \u001b[38;5;129;01mor\u001b[39;00m _global_backward_hooks\n\u001b[0;32m   1746\u001b[0m         \u001b[38;5;129;01mor\u001b[39;00m _global_forward_hooks \u001b[38;5;129;01mor\u001b[39;00m _global_forward_pre_hooks):\n\u001b[1;32m-> 1747\u001b[0m     \u001b[38;5;28;01mreturn\u001b[39;00m \u001b[43mforward_call\u001b[49m\u001b[43m(\u001b[49m\u001b[38;5;241;43m*\u001b[39;49m\u001b[43margs\u001b[49m\u001b[43m,\u001b[49m\u001b[43m \u001b[49m\u001b[38;5;241;43m*\u001b[39;49m\u001b[38;5;241;43m*\u001b[39;49m\u001b[43mkwargs\u001b[49m\u001b[43m)\u001b[49m\n\u001b[0;32m   1749\u001b[0m result \u001b[38;5;241m=\u001b[39m \u001b[38;5;28;01mNone\u001b[39;00m\n\u001b[0;32m   1750\u001b[0m called_always_called_hooks \u001b[38;5;241m=\u001b[39m \u001b[38;5;28mset\u001b[39m()\n",
      "Cell \u001b[1;32mIn[98], line 42\u001b[0m, in \u001b[0;36mEnhancedMLPModelNN.forward\u001b[1;34m(self, features)\u001b[0m\n\u001b[0;32m     39\u001b[0m x1 \u001b[38;5;241m=\u001b[39m \u001b[38;5;28mself\u001b[39m\u001b[38;5;241m.\u001b[39mdropout1(x1)\n\u001b[0;32m     41\u001b[0m x2 \u001b[38;5;241m=\u001b[39m F\u001b[38;5;241m.\u001b[39mrelu(\u001b[38;5;28mself\u001b[39m\u001b[38;5;241m.\u001b[39mfc2(x1))\n\u001b[1;32m---> 42\u001b[0m x2 \u001b[38;5;241m=\u001b[39m \u001b[38;5;28mself\u001b[39m\u001b[38;5;241m.\u001b[39mdropout2(\u001b[43mx2\u001b[49m\u001b[43m \u001b[49m\u001b[38;5;241;43m+\u001b[39;49m\u001b[43m \u001b[49m\u001b[43mx1\u001b[49m)  \u001b[38;5;66;03m# Skip connection from x1 to x2\u001b[39;00m\n\u001b[0;32m     44\u001b[0m x3 \u001b[38;5;241m=\u001b[39m F\u001b[38;5;241m.\u001b[39mrelu(\u001b[38;5;28mself\u001b[39m\u001b[38;5;241m.\u001b[39mfc3(x2))\n\u001b[0;32m     45\u001b[0m x3 \u001b[38;5;241m=\u001b[39m \u001b[38;5;28mself\u001b[39m\u001b[38;5;241m.\u001b[39mdropout3(x3 \u001b[38;5;241m+\u001b[39m x2)  \u001b[38;5;66;03m# Skip connection from x2 to x3\u001b[39;00m\n",
      "\u001b[1;31mRuntimeError\u001b[0m: The size of tensor a (16) must match the size of tensor b (32) at non-singleton dimension 1"
     ]
    }
   ],
   "source": [
    "train_model(model, train_loader, criterion, optimizer, epochs=10, device=device)"
   ]
  },
  {
   "cell_type": "code",
   "execution_count": null,
   "metadata": {},
   "outputs": [],
   "source": []
  }
 ],
 "metadata": {
  "kernelspec": {
   "display_name": ".venv",
   "language": "python",
   "name": "python3"
  },
  "language_info": {
   "codemirror_mode": {
    "name": "ipython",
    "version": 3
   },
   "file_extension": ".py",
   "mimetype": "text/x-python",
   "name": "python",
   "nbconvert_exporter": "python",
   "pygments_lexer": "ipython3",
   "version": "3.12.3"
  }
 },
 "nbformat": 4,
 "nbformat_minor": 2
}
