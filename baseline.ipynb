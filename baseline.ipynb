{
 "cells": [
  {
   "cell_type": "markdown",
   "metadata": {},
   "source": [
    "# University Dropouts Prediction\n"
   ]
  },
  {
   "cell_type": "markdown",
   "metadata": {},
   "source": [
    "Imports:"
   ]
  },
  {
   "cell_type": "code",
   "execution_count": 2,
   "metadata": {
    "ExecuteTime": {
     "end_time": "2024-11-09T13:47:34.405692Z",
     "start_time": "2024-11-09T13:47:34.399798Z"
    }
   },
   "outputs": [],
   "source": [
    "import copy\n",
    "import pandas as pd\n",
    "import numpy as np\n",
    "import pathlib\n",
    "import os\n",
    "from tqdm import tqdm\n",
    "\n",
    "import torch\n",
    "from torch.utils.data import Dataset, DataLoader\n",
    "import torch.nn as nn\n",
    "import torch.optim as optim\n",
    "\n",
    "from sklearn.preprocessing import StandardScaler, MinMaxScaler\n",
    "from sklearn.model_selection import train_test_split\n",
    "from sklearn.metrics import confusion_matrix\n",
    "from sklearn.metrics import accuracy_score, precision_score, recall_score, f1_score, roc_auc_score\n",
    "import matplotlib.pyplot as plt\n",
    "\n",
    "SEED = 42\n",
    "device = torch.device('cuda' if torch.cuda.is_available() else 'cpu')"
   ]
  },
  {
   "cell_type": "markdown",
   "metadata": {},
   "source": [
    "## Read data:"
   ]
  },
  {
   "cell_type": "code",
   "execution_count": 3,
   "metadata": {
    "ExecuteTime": {
     "end_time": "2024-11-09T13:48:21.792922Z",
     "start_time": "2024-11-09T13:47:34.469140Z"
    }
   },
   "outputs": [],
   "source": [
    "df_hard = pd.read_excel('all_data_long.xlsx')"
   ]
  },
  {
   "cell_type": "code",
   "execution_count": 170,
   "metadata": {
    "ExecuteTime": {
     "end_time": "2024-11-09T16:30:17.349724Z",
     "start_time": "2024-11-09T16:30:17.205057Z"
    }
   },
   "outputs": [],
   "source": [
    "all_df = copy.deepcopy(df_hard)\n",
    "\n",
    "all_df.columns = all_df.columns.str.replace(\"'\", \"\")\n",
    "\n",
    "features_to_start = ['year', 'מין', 'סוג פיקוח', ' פסיכומטרי רב תחומי', 'פסיכומטרי כמותי', 'פסיכומטרי מילולי',\n",
    "               'שפת פסיכומטרי', 'בגרות', 'ציון מכינה', 'ניקוד רל\"ק', 'שנת לידה', 'פקולטה', 'חוג', 'מסלול', 'משקולל קיים', 'נשר חיצונית']\n",
    "\n",
    "df = all_df[features_to_start]\n",
    "\n",
    "feature_names_to_replace = {\"מין\": \"gender\", 'סוג פיקוח': 'supervision_type',\n",
    "                        ' פסיכומטרי רב תחומי': 'psico_rav', 'פסיכומטרי כמותי':'psico_camul',\n",
    "                        'פסיכומטרי מילולי':'psico_verb', 'שפת פסיכומטרי': 'psico_leng',\n",
    "                        'בגרות':'bag', 'ציון מכינה':'preparatory_score', 'ניקוד רל\"ק':'ralak_score',\n",
    "                        'שנת לידה':'birth_year', 'פקולטה':'faculty',\n",
    "                        'חוג':'hug', 'מסלול':'study_track', 'משקולל קיים':'weighted_score', 'נשר חיצונית':'dropouts'}\n",
    "\n",
    "df = df.rename(columns=feature_names_to_replace)\n",
    "\n",
    "features_to_start_id = features_to_start.copy()\n",
    "features_to_start_id.append('Fictive ID')\n",
    "df_id = all_df[features_to_start_id]\n",
    "df_id = df_id.rename(columns=feature_names_to_replace)"
   ]
  },
  {
   "cell_type": "markdown",
   "metadata": {},
   "source": [
    "## General functions:"
   ]
  },
  {
   "cell_type": "markdown",
   "metadata": {},
   "source": [
    "split to train and test:"
   ]
  },
  {
   "cell_type": "code",
   "execution_count": 6,
   "metadata": {
    "ExecuteTime": {
     "end_time": "2024-11-09T13:48:21.891516Z",
     "start_time": "2024-11-09T13:48:21.887889Z"
    }
   },
   "outputs": [],
   "source": [
    "def split_train_test(df):\n",
    "    X = df.drop('dropouts', axis=1)\n",
    "    Y = df['dropouts'].values\n",
    "    \n",
    "    X_train, X_test, y_train, y_test = train_test_split(X, Y, test_size=0.2, random_state=SEED)\n",
    "    \n",
    "    # Reset indices for compatibility\n",
    "    X_train = X_train.reset_index(drop=True)\n",
    "    X_test = X_test.reset_index(drop=True)\n",
    "    y_train = pd.Series(y_train).reset_index(drop=True)\n",
    "    y_test = pd.Series(y_test).reset_index(drop=True)\n",
    "    return X_train, X_test, y_train, y_test"
   ]
  },
  {
   "cell_type": "markdown",
   "metadata": {},
   "source": [
    "create a Dataset object to use with DataLoader:"
   ]
  },
  {
   "cell_type": "code",
   "execution_count": 7,
   "metadata": {
    "ExecuteTime": {
     "end_time": "2024-11-09T16:48:50.473388Z",
     "start_time": "2024-11-09T16:48:50.469703Z"
    }
   },
   "outputs": [],
   "source": [
    "class DropuotsDataset(Dataset):\n",
    "    def __init__(self, features, labels):\n",
    "        self.features = features\n",
    "        self.labels = labels\n",
    "\n",
    "    def __len__(self):\n",
    "        return len(self.labels)\n",
    "\n",
    "    def __getitem__(self, idx):\n",
    "        return {\n",
    "            'features': torch.tensor(self.features.iloc[idx].values, dtype=torch.float32),\n",
    "            'label': torch.tensor(self.labels[idx], dtype=torch.float32)\n",
    "        }\n"
   ]
  },
  {
   "cell_type": "markdown",
   "metadata": {},
   "source": [
    "training loop:"
   ]
  },
  {
   "cell_type": "code",
   "execution_count": 9,
   "metadata": {
    "ExecuteTime": {
     "end_time": "2024-11-09T16:49:04.001710Z",
     "start_time": "2024-11-09T16:49:03.997217Z"
    }
   },
   "outputs": [],
   "source": [
    "def train_model(model, train_loader, criterion, optimizer, epochs, device):\n",
    "    model.to(device)  # Move model to the specified device (CPU or GPU)\n",
    "\n",
    "    for epoch in range(epochs):\n",
    "        model.train()  # Set model to training mode\n",
    "        running_loss = 0.0\n",
    "        \n",
    "        for batch in train_loader:\n",
    "            # Move data to the same device as the model\n",
    "            features = batch['features'].to(device)\n",
    "            labels = batch['label'].to(device).view(-1, 1)  # Ensure labels are shaped as (batch_size, 1)\n",
    "\n",
    "            # Zero the parameter gradients\n",
    "            optimizer.zero_grad()\n",
    "\n",
    "            # Forward pass\n",
    "            outputs = model(features)\n",
    "            loss = criterion(outputs, labels)\n",
    "\n",
    "            # Backward pass and optimization\n",
    "            loss.backward()\n",
    "            optimizer.step()\n",
    "\n",
    "            # Accumulate the loss\n",
    "            running_loss += loss.item()\n",
    "\n",
    "        # Calculate average loss for the epoch\n",
    "        avg_loss = running_loss / len(train_loader)\n",
    "        print(f\"Epoch [{epoch+1}/{epochs}], Loss: {avg_loss:.4f}\")\n",
    "\n",
    "    print(\"Training complete.\")"
   ]
  },
  {
   "cell_type": "markdown",
   "metadata": {},
   "source": [
    "evaluation:"
   ]
  },
  {
   "cell_type": "code",
   "execution_count": null,
   "metadata": {},
   "outputs": [],
   "source": [
    "def evaluate_model(model, data_loader, criterion, device, threshold=0.05):\n",
    "    model.eval()  # Set model to evaluation mode\n",
    "    total_loss = 0.0\n",
    "    all_labels = []\n",
    "    all_predictions = []\n",
    "    all_probs = []\n",
    "\n",
    "    with torch.no_grad():\n",
    "        for batch in tqdm(data_loader):\n",
    "            # Move data to the same device as the model\n",
    "            features = batch['features'].to(device)\n",
    "            labels = batch['label'].to(device).view(-1, 1)\n",
    "\n",
    "            # Forward pass\n",
    "            outputs = model(features)\n",
    "            loss = criterion(outputs, labels)\n",
    "            total_loss += loss.item()\n",
    "\n",
    "            # Get predictions and probabilities\n",
    "            probabilities = outputs.squeeze().cpu().numpy()  # Convert to numpy array\n",
    "            predictions = (probabilities >= threshold).astype(int)  # Threshold for binary classification\n",
    "            labels = labels.cpu().numpy()  # Convert labels to numpy\n",
    "\n",
    "            # Store results\n",
    "            all_labels.extend(labels)\n",
    "            all_predictions.extend(predictions)\n",
    "            all_probs.extend(probabilities)\n",
    "\n",
    "    # Compute average loss\n",
    "    avg_loss = total_loss / len(data_loader)\n",
    "\n",
    "    # Calculate evaluation metrics\n",
    "    accuracy = accuracy_score(all_labels, all_predictions)\n",
    "    precision = precision_score(all_labels, all_predictions)\n",
    "    recall = recall_score(all_labels, all_predictions)\n",
    "    f1 = f1_score(all_labels, all_predictions)\n",
    "    roc_auc = roc_auc_score(all_labels, all_probs)\n",
    "\n",
    "    print(f\"Evaluation Results:\")\n",
    "    print(f\"Loss: {avg_loss:.4f}\")\n",
    "    print(f\"Accuracy: {accuracy:.4f}\")\n",
    "    print(f\"Precision: {precision:.4f}\")\n",
    "    print(f\"Recall: {recall:.4f}\")\n",
    "    print(f\"F1 Score: {f1:.4f}\")\n",
    "    print(f\"ROC AUC: {roc_auc:.4f}\")\n",
    "\n",
    "    return {'loss': avg_loss,\n",
    "            'accuracy_score': accuracy,\n",
    "            'precision_score': precision,\n",
    "            'recall': recall,\n",
    "            'f1_score': f1,\n",
    "            'roc_auc': roc_auc,\n",
    "            'lables': all_labels,\n",
    "            'predictions': all_predictions,\n",
    "            'probabilities': all_probs}\n"
   ]
  },
  {
   "cell_type": "code",
   "execution_count": 168,
   "metadata": {},
   "outputs": [],
   "source": [
    "# Initialize a DataFrame to store the results\n",
    "results_df = pd.DataFrame(columns=[\n",
    "    \"Experiment\", \"Loss\", \"Accuracy\", \"Precision\", \"Recall\", \"F1-Score\", \"AUC-ROC\"\n",
    "])\n",
    "\n",
    "# Function to log results into a DataFrame\n",
    "def log_experiment_results(experiment_name, test_results):\n",
    "    \"\"\"\n",
    "    Logs the test results of an experiment into a DataFrame.\n",
    "\n",
    "    Args:\n",
    "        experiment_name (str): Name of the experiment/model.\n",
    "        test_results (dict): Dictionary containing evaluation metrics:\n",
    "                             {'loss', 'accuracy_score', 'precision_score', 'recall',\n",
    "                              'f1_score', 'roc_auc', 'lables', 'predictions', 'probabilities'}\n",
    "    \"\"\"\n",
    "    global results_df\n",
    "\n",
    "    # Extract metrics from test_results\n",
    "    avg_loss = test_results.get('loss')\n",
    "    accuracy = test_results.get('accuracy_score')\n",
    "    precision = test_results.get('precision_score')\n",
    "    recall = test_results.get('recall')\n",
    "    f1_score = test_results.get('f1_score')\n",
    "    auc_roc = test_results.get('roc_auc')\n",
    "\n",
    "    # Create a new row for this experiment\n",
    "    new_row = {\n",
    "        \"Experiment\": experiment_name,\n",
    "        \"Loss\": avg_loss,\n",
    "        \"Accuracy\": accuracy,\n",
    "        \"Precision\": precision,\n",
    "        \"Recall\": recall,\n",
    "        \"F1-Score\": f1_score,\n",
    "        \"AUC-ROC\": auc_roc\n",
    "    }\n",
    "\n",
    "    # Append the new row to the DataFrame\n",
    "    results_df = pd.concat([results_df, pd.DataFrame([new_row])], ignore_index=True)"
   ]
  },
  {
   "cell_type": "markdown",
   "metadata": {},
   "source": [
    "## Baseline:"
   ]
  },
  {
   "cell_type": "markdown",
   "metadata": {},
   "source": [
    "model:"
   ]
  },
  {
   "cell_type": "code",
   "execution_count": 171,
   "metadata": {
    "ExecuteTime": {
     "end_time": "2024-11-09T16:48:52.226703Z",
     "start_time": "2024-11-09T16:48:52.223778Z"
    }
   },
   "outputs": [],
   "source": [
    "class BaseModelNN(nn.Module):\n",
    "    def __init__(self, input_dim):\n",
    "        super(BaseModelNN, self).__init__()\n",
    "        \n",
    "        # Fully connected layers\n",
    "        self.fc1 = nn.Linear(input_dim, 12)\n",
    "        self.fc2 = nn.Linear(12, 6)\n",
    "        self.output = nn.Linear(6, 1)\n",
    "\n",
    "    def forward(self, features):\n",
    "        x = torch.relu(self.fc1(features))\n",
    "        x = torch.relu(self.fc2(x))\n",
    "        x = torch.sigmoid(self.output(x))  # For binary classification\n",
    "        return x"
   ]
  },
  {
   "cell_type": "markdown",
   "metadata": {},
   "source": [
    "take only numeric features, drop duplicates:"
   ]
  },
  {
   "cell_type": "code",
   "execution_count": 172,
   "metadata": {
    "ExecuteTime": {
     "end_time": "2024-11-09T16:23:57.568621Z",
     "start_time": "2024-11-09T16:23:57.529191Z"
    }
   },
   "outputs": [],
   "source": [
    "numeric_features = df.select_dtypes(include=['number']).columns\n",
    "# drop hug column:\n",
    "numeric_features = numeric_features[~numeric_features.str.fullmatch('hug')]\n",
    "# drop duplicates\n",
    "numeric_df = df[numeric_features].drop_duplicates()\n",
    "# train test split:\n",
    "X_train, X_test, y_train, y_test = split_train_test(numeric_df)"
   ]
  },
  {
   "cell_type": "code",
   "execution_count": 173,
   "metadata": {
    "ExecuteTime": {
     "end_time": "2024-11-09T16:48:58.300028Z",
     "start_time": "2024-11-09T16:48:58.294568Z"
    }
   },
   "outputs": [],
   "source": [
    "# Create DataLoader\n",
    "batch_size = 32\n",
    "train_dataset = DropuotsDataset(X_train, y_train)\n",
    "train_loader = DataLoader(train_dataset, batch_size=batch_size, shuffle=True)\n",
    "\n",
    "test_dataset = DropuotsDataset(X_test, y_test)\n",
    "test_loader = DataLoader(test_dataset, batch_size=batch_size)"
   ]
  },
  {
   "cell_type": "markdown",
   "metadata": {},
   "source": [
    "initialize model and optimizer:"
   ]
  },
  {
   "cell_type": "code",
   "execution_count": 174,
   "metadata": {
    "ExecuteTime": {
     "end_time": "2024-11-09T16:49:02.266736Z",
     "start_time": "2024-11-09T16:49:02.261715Z"
    }
   },
   "outputs": [],
   "source": [
    "model = BaseModelNN(input_dim=X_train.shape[1])\n",
    "criterion = nn.BCELoss()  # For binary classification\n",
    "optimizer = optim.SGD(model.parameters(), lr=0.1, momentum=0.9)"
   ]
  },
  {
   "cell_type": "markdown",
   "metadata": {},
   "source": [
    "train:"
   ]
  },
  {
   "cell_type": "code",
   "execution_count": 175,
   "metadata": {
    "ExecuteTime": {
     "end_time": "2024-11-09T16:49:50.799570Z",
     "start_time": "2024-11-09T16:49:05.091727Z"
    }
   },
   "outputs": [
    {
     "name": "stdout",
     "output_type": "stream",
     "text": [
      "Epoch [1/10], Loss: 5.4101\n",
      "Epoch [2/10], Loss: 5.4104\n",
      "Epoch [3/10], Loss: 5.4096\n",
      "Epoch [4/10], Loss: 5.4104\n",
      "Epoch [5/10], Loss: 5.4100\n",
      "Epoch [6/10], Loss: 5.4108\n",
      "Epoch [7/10], Loss: 5.4104\n",
      "Epoch [8/10], Loss: 5.4108\n",
      "Epoch [9/10], Loss: 5.4100\n",
      "Epoch [10/10], Loss: 5.4108\n",
      "Training complete.\n"
     ]
    }
   ],
   "source": [
    "train_model(model, train_loader, criterion, optimizer, epochs=10, device=device)"
   ]
  },
  {
   "cell_type": "code",
   "execution_count": 176,
   "metadata": {
    "ExecuteTime": {
     "end_time": "2024-11-09T16:55:13.040051Z",
     "start_time": "2024-11-09T16:55:11.815557Z"
    }
   },
   "outputs": [
    {
     "name": "stderr",
     "output_type": "stream",
     "text": [
      "100%|██████████| 264/264 [00:02<00:00, 123.21it/s]\n",
      "c:\\Users\\nadavkat\\OneDrive - Intel Corporation\\Documents\\Learning\\University\\University-Dropouts-Prediction\\.venv\\Lib\\site-packages\\sklearn\\metrics\\_classification.py:1531: UndefinedMetricWarning: Precision is ill-defined and being set to 0.0 due to no predicted samples. Use `zero_division` parameter to control this behavior.\n",
      "  _warn_prf(average, modifier, f\"{metric.capitalize()} is\", len(result))\n"
     ]
    },
    {
     "name": "stdout",
     "output_type": "stream",
     "text": [
      "Evaluation Results:\n",
      "Loss: 5.6593\n",
      "Accuracy: 0.9434\n",
      "Precision: 0.0000\n",
      "Recall: 0.0000\n",
      "F1 Score: 0.0000\n",
      "ROC AUC: 0.5000\n"
     ]
    }
   ],
   "source": [
    "test_eval_results = evaluate_model(model, test_loader, criterion, device, threshold=0.5)"
   ]
  },
  {
   "cell_type": "code",
   "execution_count": 177,
   "metadata": {
    "ExecuteTime": {
     "end_time": "2024-11-09T16:53:38.710924Z",
     "start_time": "2024-11-09T16:53:38.706901Z"
    }
   },
   "outputs": [
    {
     "data": {
      "text/plain": [
       "array([0.], dtype=float32)"
      ]
     },
     "execution_count": 177,
     "metadata": {},
     "output_type": "execute_result"
    }
   ],
   "source": [
    "np.unique(test_eval_results['probabilities'])"
   ]
  },
  {
   "cell_type": "markdown",
   "metadata": {},
   "source": [
    "log results:"
   ]
  },
  {
   "cell_type": "code",
   "execution_count": null,
   "metadata": {},
   "outputs": [],
   "source": [
    "log_experiment_results(\"Base Model - MLP\", test_eval_results)"
   ]
  },
  {
   "cell_type": "markdown",
   "metadata": {},
   "source": [
    "this model practically predicts all students will not drop. this is obviousley not good."
   ]
  },
  {
   "cell_type": "markdown",
   "metadata": {},
   "source": [
    "# Enhancements: \n",
    "change stochastic gradient decent fetchers to dill with the unbalances df\n",
    "\n",
    "learning rate from 0.1 to 0.01, \n",
    "\n",
    "set weight decay 0.005\n",
    "\n",
    "change the threshold for binary classification from 0.5 to mean(y_train)"
   ]
  },
  {
   "cell_type": "code",
   "execution_count": 180,
   "metadata": {
    "ExecuteTime": {
     "end_time": "2024-11-09T14:12:23.264839Z",
     "start_time": "2024-11-09T14:12:04.876277Z"
    }
   },
   "outputs": [
    {
     "name": "stdout",
     "output_type": "stream",
     "text": [
      "Epoch [1/10], Loss: 56.0595\n",
      "Epoch [2/10], Loss: 5.4100\n",
      "Epoch [3/10], Loss: 5.4104\n",
      "Epoch [4/10], Loss: 5.4096\n",
      "Epoch [5/10], Loss: 5.4100\n",
      "Epoch [6/10], Loss: 5.4100\n",
      "Epoch [7/10], Loss: 5.4096\n",
      "Epoch [8/10], Loss: 5.1758\n",
      "Epoch [9/10], Loss: 0.2124\n",
      "Epoch [10/10], Loss: 0.2119\n",
      "Training complete.\n"
     ]
    },
    {
     "name": "stderr",
     "output_type": "stream",
     "text": [
      "100%|██████████| 264/264 [00:05<00:00, 50.52it/s]\n"
     ]
    },
    {
     "name": "stdout",
     "output_type": "stream",
     "text": [
      "Evaluation Results:\n",
      "Loss: 0.2190\n",
      "Accuracy: 0.0566\n",
      "Precision: 0.0566\n",
      "Recall: 1.0000\n",
      "F1 Score: 0.1071\n",
      "ROC AUC: 0.5000\n"
     ]
    }
   ],
   "source": [
    "batch_size = 32\n",
    "train_dataset = DropuotsDataset(X_train, y_train)\n",
    "train_loader = DataLoader(train_dataset, batch_size=batch_size, shuffle=True)\n",
    "\n",
    "test_dataset = DropuotsDataset(X_test, y_test)\n",
    "test_loader = DataLoader(test_dataset, batch_size=batch_size)\n",
    "\n",
    "model = BaseModelNN(input_dim=X_train.shape[1])\n",
    "criterion = nn.BCELoss()  # For binary classification\n",
    "optimizer = optim.SGD(model.parameters(), lr=0.01, momentum=0.9, weight_decay=0.005)\n",
    "\n",
    "train_model(model, train_loader, criterion, optimizer, epochs=10, device=device)\n",
    "\n",
    "threshold = np.round(y_train.mean(), 3)\n",
    "test_eval_results = evaluate_model(model, test_loader, criterion, device, threshold=threshold)"
   ]
  },
  {
   "cell_type": "code",
   "execution_count": 181,
   "metadata": {
    "ExecuteTime": {
     "end_time": "2024-11-09T14:12:23.271920Z",
     "start_time": "2024-11-09T14:12:23.265848Z"
    }
   },
   "outputs": [
    {
     "data": {
      "text/plain": [
       "{np.float32(0.07026518)}"
      ]
     },
     "execution_count": 181,
     "metadata": {},
     "output_type": "execute_result"
    }
   ],
   "source": [
    "set(test_eval_results['probabilities'])"
   ]
  },
  {
   "cell_type": "code",
   "execution_count": 182,
   "metadata": {},
   "outputs": [],
   "source": [
    "log_experiment_results(\"Base Model - MLP with changes in learning rate and weight decay\", test_eval_results)"
   ]
  },
  {
   "cell_type": "markdown",
   "metadata": {},
   "source": [
    "# Enhancements: \n",
    "change the model architecture and preprocess data to achive better results"
   ]
  },
  {
   "cell_type": "markdown",
   "metadata": {},
   "source": [
    "## add layers and neurons:"
   ]
  },
  {
   "cell_type": "code",
   "execution_count": 184,
   "metadata": {
    "ExecuteTime": {
     "end_time": "2024-11-09T14:17:38.971065Z",
     "start_time": "2024-11-09T14:17:38.964949Z"
    }
   },
   "outputs": [],
   "source": [
    "class MLPModelNN(nn.Module):\n",
    "    def __init__(self, input_dim):\n",
    "        super(MLPModelNN, self).__init__()\n",
    "        \n",
    "        # Fully connected layers\n",
    "        self.fc1 = nn.Linear(input_dim, 32)\n",
    "        self.fc2 = nn.Linear(32, 16)\n",
    "        self.fc3 = nn.Linear(16, 8)\n",
    "        self.fc4 = nn.Linear(8, 4)\n",
    "        self.fc5 = nn.Linear(4, 2)\n",
    "        self.output = nn.Linear(2, 1)\n",
    "\n",
    "    def forward(self, features):\n",
    "        x = torch.relu(self.fc1(features))\n",
    "        x = torch.relu(self.fc2(x))\n",
    "        x = torch.relu(self.fc3(x))\n",
    "        x = torch.relu(self.fc4(x))\n",
    "        x = torch.relu(self.fc5(x))\n",
    "        x = torch.sigmoid(self.output(x))  # For binary classification\n",
    "        return x\n",
    "\n",
    "\n",
    "batch_size = 32\n",
    "train_dataset = DropuotsDataset(X_train, y_train)\n",
    "train_loader = DataLoader(train_dataset, batch_size=batch_size, shuffle=True)\n",
    "\n",
    "test_dataset = DropuotsDataset(X_test, y_test)\n",
    "test_loader = DataLoader(test_dataset, batch_size=batch_size)\n",
    "\n",
    "model = MLPModelNN(input_dim=X_train.shape[1])\n",
    "criterion = nn.BCELoss()  # For binary classification\n",
    "optimizer = optim.SGD(model.parameters(), lr=0.01, momentum=0.9, weight_decay=0.005)"
   ]
  },
  {
   "cell_type": "code",
   "execution_count": 185,
   "metadata": {
    "ExecuteTime": {
     "end_time": "2024-11-09T14:18:01.757863Z",
     "start_time": "2024-11-09T14:17:40.308922Z"
    }
   },
   "outputs": [
    {
     "name": "stdout",
     "output_type": "stream",
     "text": [
      "Epoch [1/10], Loss: 0.2270\n",
      "Epoch [2/10], Loss: 0.2119\n",
      "Epoch [3/10], Loss: 0.2120\n",
      "Epoch [4/10], Loss: 0.2119\n",
      "Epoch [5/10], Loss: 0.2120\n",
      "Epoch [6/10], Loss: 0.2117\n",
      "Epoch [7/10], Loss: 0.2113\n",
      "Epoch [8/10], Loss: 0.2111\n",
      "Epoch [9/10], Loss: 0.2109\n",
      "Epoch [10/10], Loss: 0.2108\n",
      "Training complete.\n"
     ]
    }
   ],
   "source": [
    "train_model(model, train_loader, criterion, optimizer, epochs=10, device=device)"
   ]
  },
  {
   "cell_type": "code",
   "execution_count": 186,
   "metadata": {},
   "outputs": [
    {
     "name": "stdout",
     "output_type": "stream",
     "text": [
      "threshold: 0.054\n"
     ]
    }
   ],
   "source": [
    "threshold = np.round(y_train.mean(), 3)\n",
    "print('threshold:', threshold)"
   ]
  },
  {
   "cell_type": "code",
   "execution_count": 187,
   "metadata": {
    "ExecuteTime": {
     "end_time": "2024-11-09T14:18:02.174987Z",
     "start_time": "2024-11-09T14:18:01.758870Z"
    }
   },
   "outputs": [
    {
     "name": "stderr",
     "output_type": "stream",
     "text": [
      "100%|██████████| 264/264 [00:03<00:00, 82.38it/s]\n"
     ]
    },
    {
     "name": "stdout",
     "output_type": "stream",
     "text": [
      "Evaluation Results:\n",
      "Loss: 0.2175\n",
      "Accuracy: 0.0566\n",
      "Precision: 0.0566\n",
      "Recall: 1.0000\n",
      "F1 Score: 0.1071\n",
      "ROC AUC: 0.4971\n"
     ]
    }
   ],
   "source": [
    "test_eval_results = evaluate_model(model, test_loader, criterion, device, threshold=threshold)"
   ]
  },
  {
   "cell_type": "code",
   "execution_count": 188,
   "metadata": {
    "ExecuteTime": {
     "end_time": "2024-11-09T14:18:37.031988Z",
     "start_time": "2024-11-09T14:18:37.018683Z"
    }
   },
   "outputs": [
    {
     "data": {
      "text/plain": [
       "{np.float32(0.058667626), np.float32(0.05866764)}"
      ]
     },
     "execution_count": 188,
     "metadata": {},
     "output_type": "execute_result"
    }
   ],
   "source": [
    "# sum(test_eval_results['predictions'])/len(test_eval_results['predictions'])\n",
    "set(test_eval_results['probabilities'])"
   ]
  },
  {
   "cell_type": "code",
   "execution_count": 189,
   "metadata": {},
   "outputs": [],
   "source": [
    "log_experiment_results(\"Base Model - more layers MLP\", test_eval_results)"
   ]
  },
  {
   "cell_type": "markdown",
   "metadata": {},
   "source": [
    "It seems like adding layers dosent solve the problem, and the model is still not preforming well. also, the model just predict a single value for all observations. "
   ]
  },
  {
   "cell_type": "markdown",
   "metadata": {},
   "source": [
    "## preprocess data:\n",
    "The data preprocess is based on knowledge about this specific usecase and data, as revised by an SME\n",
    "we scaled the data with the following:\n",
    "1. create scaler for each hug & year in the training set\n",
    "2. create MinMaxScaler for year & age\n",
    "3. scale train & test using the scaler learned on the train\n",
    "4. for hug & year not in training - use a scaler learned on the entire train set"
   ]
  },
  {
   "cell_type": "code",
   "execution_count": 266,
   "metadata": {
    "ExecuteTime": {
     "end_time": "2024-11-09T16:46:19.071792Z",
     "start_time": "2024-11-09T16:46:19.067472Z"
    }
   },
   "outputs": [],
   "source": [
    "def preprocess_data(data, scaler_by_group=None, year_scaler=None, train_scaler=None, test_mode=False):\n",
    "    df = data.copy()\n",
    "    \n",
    "    # remove samples with 0 bagrut score:\n",
    "    df = df[df['bag'] != 0]# remove 1252 samples\n",
    "    \n",
    "    # df['supervision_type'] = np.where(df['supervision_type'].isna(), 'missing', df['supervision_type'])\n",
    "    \n",
    "    # df['ralak'] = np.where(df['ralak_score'] >= 30, 1, 0)\n",
    "    # df.pop('ralak_score')\n",
    "    \n",
    "    # learned in preparatory at huji:\n",
    "    df['preparatory'] = np.where(df['preparatory_score'] > 0, 1, 0)\n",
    "    # df.pop('preparatory_score')\n",
    "    \n",
    "    # create age feature:\n",
    "    df['age'] = df['year'] - df['birth_year']\n",
    "    # df.pop('birth_year')\n",
    "    # df.pop('חוג')\n",
    "    # df.pop('פקולטה')\n",
    "    \n",
    "    # encode categorical binary variables:\n",
    "    df['study_track'] = np.where(df['study_track'] == 'חד חוגי', 0, 1)\n",
    "    df['gender'] = np.where(df['gender'] == 'ז', 0, 1)\n",
    "    \n",
    "    cols_to_scale = ['psico_rav', 'psico_camul', 'psico_verb', 'bag', 'preparatory_score', 'ralak_score', 'age', 'weighted_score']    \n",
    "    df.loc[:, cols_to_scale] = df[cols_to_scale].astype('float64')\n",
    "    df.loc[:, ['year', 'birth_year']] = df[['year', 'birth_year']].astype('float64')\n",
    "    \n",
    "    groups = df.groupby(['hug_num', 'year']).groups\n",
    "    \n",
    "    if not test_mode:\n",
    "        scaler_by_group = {group: StandardScaler().fit(df.loc[groups[group], cols_to_scale]) for group in groups.keys()}\n",
    "        year_scaler = MinMaxScaler().fit(df[['year', 'birth_year']])\n",
    "        train_scaler = StandardScaler().fit(df.loc[:, cols_to_scale])\n",
    "    for group in groups.keys():\n",
    "        if group in scaler_by_group:\n",
    "            scaler = scaler_by_group[group]\n",
    "            df.loc[groups[group], cols_to_scale] = scaler.transform(df.loc[groups[group], cols_to_scale])\n",
    "        else:\n",
    "            df.loc[groups[group], cols_to_scale] = train_scaler.transform(df.loc[groups[group], cols_to_scale])\n",
    "            \n",
    "    \n",
    "    df[['year', 'birth_year']] = year_scaler.transform(df[['year', 'birth_year']])\n",
    "    \n",
    "    if not test_mode:\n",
    "        return df, scaler_by_group, year_scaler, train_scaler\n",
    "    else:\n",
    "        return df"
   ]
  },
  {
   "cell_type": "code",
   "execution_count": 267,
   "metadata": {
    "ExecuteTime": {
     "end_time": "2024-11-09T16:48:35.174475Z",
     "start_time": "2024-11-09T16:48:30.725859Z"
    }
   },
   "outputs": [
    {
     "name": "stderr",
     "output_type": "stream",
     "text": [
      "C:\\Users\\nadavkat\\AppData\\Local\\Temp\\ipykernel_23592\\3474564085.py:39: FutureWarning: Setting an item of incompatible dtype is deprecated and will raise an error in a future version of pandas. Value '[ 0.61723291  0.23009568  0.51336683 -0.78968043  0.5558575   0.47087615\n",
      " -0.22313815  0.51808801  0.37645244  0.33868295  0.65972358  0.47559734\n",
      "  0.78247441 -2.72064539  0.5228092  -0.19481103 -2.72064539  0.21593213\n",
      "  0.37173125]' has dtype incompatible with int64, please explicitly cast to a compatible dtype first.\n",
      "  df.loc[groups[group], cols_to_scale] = scaler.transform(df.loc[groups[group], cols_to_scale])\n",
      "C:\\Users\\nadavkat\\AppData\\Local\\Temp\\ipykernel_23592\\3474564085.py:39: FutureWarning: Setting an item of incompatible dtype is deprecated and will raise an error in a future version of pandas. Value '[ 0.63629224  0.25819076  0.51025841 -0.5416393   0.57327532  0.5005635\n",
      " -0.26533437  0.56358041  0.25819076  0.20971621  0.65568206  0.41330931\n",
      "  0.88351244 -2.73268891  0.45208895 -0.34774111 -2.73268891  0.29697039\n",
      "  0.40846186]' has dtype incompatible with int64, please explicitly cast to a compatible dtype first.\n",
      "  df.loc[groups[group], cols_to_scale] = scaler.transform(df.loc[groups[group], cols_to_scale])\n",
      "C:\\Users\\nadavkat\\AppData\\Local\\Temp\\ipykernel_23592\\3474564085.py:39: FutureWarning: Setting an item of incompatible dtype is deprecated and will raise an error in a future version of pandas. Value '[ 0.58912001  0.19950952  0.51119791 -0.96015464  0.53869983  0.43785947\n",
      " -0.18551732  0.47452869  0.47911234  0.45619408  0.6578748   0.53411617\n",
      "  0.67620941 -2.7019427   0.58912001 -0.05259138 -2.7019427   0.13075473\n",
      "  0.3278518 ]' has dtype incompatible with int64, please explicitly cast to a compatible dtype first.\n",
      "  df.loc[groups[group], cols_to_scale] = scaler.transform(df.loc[groups[group], cols_to_scale])\n",
      "C:\\Users\\nadavkat\\AppData\\Local\\Temp\\ipykernel_23592\\3474564085.py:39: FutureWarning: Setting an item of incompatible dtype is deprecated and will raise an error in a future version of pandas. Value '[-1.2165595   0.35053409 -0.0412393  -1.60833289 -0.0412393   0.35053409\n",
      "  0.35053409  1.91762768 -0.4330127  -0.0412393   1.13408089 -0.8247861\n",
      "  0.35053409  2.30940108 -0.0412393  -0.0412393  -1.60833289 -0.8247861\n",
      " -0.0412393 ]' has dtype incompatible with int64, please explicitly cast to a compatible dtype first.\n",
      "  df.loc[groups[group], cols_to_scale] = scaler.transform(df.loc[groups[group], cols_to_scale])\n",
      "C:\\Users\\nadavkat\\AppData\\Local\\Temp\\ipykernel_23592\\3474564085.py:39: FutureWarning: Setting an item of incompatible dtype is deprecated and will raise an error in a future version of pandas. Value '[ 0.82901641  0.2322323   0.42138908 -0.85555745  0.61289649  0.44420404\n",
      " -0.04237688  0.55343932  0.19849381  0.3262576   0.35349728  0.56947893\n",
      "  0.83026086 -2.72002382  0.3996803   0.05552005 -2.72002382  0.0401718\n",
      "  0.47144372]' has dtype incompatible with int64, please explicitly cast to a compatible dtype first.\n",
      "  df.loc[groups[group], cols_to_scale] = scaler.transform(df.loc[groups[group], cols_to_scale])\n",
      "C:\\Users\\nadavkat\\AppData\\Local\\Temp\\ipykernel_23592\\3474564085.py:39: FutureWarning: Setting an item of incompatible dtype is deprecated and will raise an error in a future version of pandas. Value '[-0.25 -0.25 -0.25 -0.25 -0.25 -0.25 -0.25 -0.25 -0.25 -0.25 -0.25 -0.25\n",
      " -0.25 -0.25 -0.25 -0.25  4.  ]' has dtype incompatible with int64, please explicitly cast to a compatible dtype first.\n",
      "  df.loc[groups[group], cols_to_scale] = scaler.transform(df.loc[groups[group], cols_to_scale])\n",
      "C:\\Users\\nadavkat\\AppData\\Local\\Temp\\ipykernel_23592\\3474564085.py:39: FutureWarning: Setting an item of incompatible dtype is deprecated and will raise an error in a future version of pandas. Value '[-2.72064539  0.37645244]' has dtype incompatible with int64, please explicitly cast to a compatible dtype first.\n",
      "  df.loc[groups[group], cols_to_scale] = scaler.transform(df.loc[groups[group], cols_to_scale])\n",
      "C:\\Users\\nadavkat\\AppData\\Local\\Temp\\ipykernel_23592\\3474564085.py:39: FutureWarning: Setting an item of incompatible dtype is deprecated and will raise an error in a future version of pandas. Value '[-2.73268891  0.37452967]' has dtype incompatible with int64, please explicitly cast to a compatible dtype first.\n",
      "  df.loc[groups[group], cols_to_scale] = scaler.transform(df.loc[groups[group], cols_to_scale])\n",
      "C:\\Users\\nadavkat\\AppData\\Local\\Temp\\ipykernel_23592\\3474564085.py:39: FutureWarning: Setting an item of incompatible dtype is deprecated and will raise an error in a future version of pandas. Value '[-2.7019427   0.36910467]' has dtype incompatible with int64, please explicitly cast to a compatible dtype first.\n",
      "  df.loc[groups[group], cols_to_scale] = scaler.transform(df.loc[groups[group], cols_to_scale])\n",
      "C:\\Users\\nadavkat\\AppData\\Local\\Temp\\ipykernel_23592\\3474564085.py:39: FutureWarning: Setting an item of incompatible dtype is deprecated and will raise an error in a future version of pandas. Value '[ 1.13408089 -0.4330127 ]' has dtype incompatible with int64, please explicitly cast to a compatible dtype first.\n",
      "  df.loc[groups[group], cols_to_scale] = scaler.transform(df.loc[groups[group], cols_to_scale])\n",
      "C:\\Users\\nadavkat\\AppData\\Local\\Temp\\ipykernel_23592\\3474564085.py:39: FutureWarning: Setting an item of incompatible dtype is deprecated and will raise an error in a future version of pandas. Value '[-2.72002382  0.00795431]' has dtype incompatible with int64, please explicitly cast to a compatible dtype first.\n",
      "  df.loc[groups[group], cols_to_scale] = scaler.transform(df.loc[groups[group], cols_to_scale])\n",
      "C:\\Users\\nadavkat\\AppData\\Local\\Temp\\ipykernel_23592\\3474564085.py:39: FutureWarning: Setting an item of incompatible dtype is deprecated and will raise an error in a future version of pandas. Value '[-0.25 -0.25 -0.25 -0.25]' has dtype incompatible with int64, please explicitly cast to a compatible dtype first.\n",
      "  df.loc[groups[group], cols_to_scale] = scaler.transform(df.loc[groups[group], cols_to_scale])\n"
     ]
    }
   ],
   "source": [
    "df = df[df['bag'] != 0]# remove 1252 samples\n",
    "df_prep = copy.deepcopy(df)\n",
    "\n",
    "df_prep = df_prep.drop('psico_leng', axis=1)\n",
    "df_prep = df_prep.drop('supervision_type', axis=1)\n",
    "df_prep['hug_num'] = df['hug']\n",
    "\n",
    "df_prep = pd.get_dummies(df_prep, columns=['hug', 'faculty'], dtype=float)\n",
    "\n",
    "X_train, X_test, y_train, y_test = split_train_test(df_prep)\n",
    "X_train, scaler_by_group, year_scaler, train_scaler = preprocess_data(X_train, test_mode=False)\n",
    "\n",
    "X_train = X_train.drop('hug_num', axis=1)\n",
    "\n",
    "X_test = preprocess_data(X_test, scaler_by_group=scaler_by_group, year_scaler=year_scaler, train_scaler=train_scaler, test_mode=True)\n",
    "X_test = X_test.drop('hug_num', axis=1)\n"
   ]
  },
  {
   "cell_type": "code",
   "execution_count": 279,
   "metadata": {
    "ExecuteTime": {
     "end_time": "2024-11-09T16:19:55.981030Z",
     "start_time": "2024-11-09T16:19:55.764651Z"
    }
   },
   "outputs": [],
   "source": [
    "# Create DataLoader\n",
    "numeric_features = X_train.select_dtypes(include=['number']).columns\n",
    "\n",
    "batch_size = 32\n",
    "train_dataset = DropuotsDataset(X_train[numeric_features], y_train)\n",
    "train_loader = DataLoader(train_dataset, batch_size=batch_size, shuffle=True)\n",
    "\n",
    "test_dataset = DropuotsDataset(X_test[numeric_features], y_test)\n",
    "test_loader = DataLoader(test_dataset, batch_size=batch_size)"
   ]
  },
  {
   "cell_type": "markdown",
   "metadata": {},
   "source": [
    "try MLP again with scailing:"
   ]
  },
  {
   "cell_type": "code",
   "execution_count": 280,
   "metadata": {
    "ExecuteTime": {
     "end_time": "2024-11-09T16:19:58.428603Z",
     "start_time": "2024-11-09T16:19:58.382061Z"
    }
   },
   "outputs": [],
   "source": [
    "class MLPModelNN(nn.Module):\n",
    "    def __init__(self, input_dim):\n",
    "        super(MLPModelNN, self).__init__()\n",
    "        \n",
    "        # Fully connected layers\n",
    "        self.fc1 = nn.Linear(input_dim, 32)\n",
    "        self.fc2 = nn.Linear(32, 16)\n",
    "        self.fc3 = nn.Linear(16, 8)\n",
    "        self.fc4 = nn.Linear(8, 4)\n",
    "        self.fc5 = nn.Linear(4, 2)\n",
    "        self.output = nn.Linear(2, 1)\n",
    "\n",
    "    def forward(self, features):\n",
    "        x = torch.relu(self.fc1(features))\n",
    "        x = torch.relu(self.fc2(x))\n",
    "        x = torch.relu(self.fc3(x))\n",
    "        x = torch.relu(self.fc4(x))\n",
    "        x = torch.relu(self.fc5(x))\n",
    "        x = torch.sigmoid(self.output(x))  # For binary classification\n",
    "        return x\n",
    "\n",
    "\n",
    "model = MLPModelNN(input_dim=X_train[numeric_features].shape[1])\n",
    "criterion = nn.BCELoss()  # For binary classification\n",
    "optimizer = optim.SGD(model.parameters(), lr=0.01, weight_decay=0.005)"
   ]
  },
  {
   "cell_type": "code",
   "execution_count": 281,
   "metadata": {},
   "outputs": [
    {
     "name": "stdout",
     "output_type": "stream",
     "text": [
      "Epoch [1/10], Loss: 0.3157\n",
      "Epoch [2/10], Loss: 0.2054\n",
      "Epoch [3/10], Loss: 0.2052\n",
      "Epoch [4/10], Loss: 0.2053\n",
      "Epoch [5/10], Loss: 0.2053\n",
      "Epoch [6/10], Loss: 0.2053\n",
      "Epoch [7/10], Loss: 0.2053\n",
      "Epoch [8/10], Loss: 0.2053\n",
      "Epoch [9/10], Loss: 0.2052\n",
      "Epoch [10/10], Loss: 0.2054\n",
      "Training complete.\n"
     ]
    }
   ],
   "source": [
    "train_model(model, train_loader, criterion, optimizer, epochs=10, device=device)"
   ]
  },
  {
   "cell_type": "code",
   "execution_count": null,
   "metadata": {},
   "outputs": [
    {
     "name": "stdout",
     "output_type": "stream",
     "text": [
      "100%|██████████| 340/340 [00:02<00:00, 162.33it/s]\n",
      "Evaluation Results:\n",
      "Loss: 0.2079\n",
      "Accuracy: 0.5391\n",
      "Precision: 0.0531\n",
      "Recall: 0.4383\n",
      "F1 Score: 0.09472\n",
      "ROC AUC: 0.5585\n"
     ]
    }
   ],
   "source": [
    "test_eval_results = evaluate_model(model, test_loader, criterion, device, threshold=0.05)"
   ]
  },
  {
   "cell_type": "code",
   "execution_count": null,
   "metadata": {
    "ExecuteTime": {
     "end_time": "2024-11-09T14:25:38.429767Z",
     "start_time": "2024-11-09T14:25:38.052951Z"
    }
   },
   "outputs": [
    {
     "data": {
      "image/png": "[encoded data removed]",
      "text/plain": [
       "<Figure size 640x480 with 2 Axes>"
      ]
     },
     "metadata": {},
     "output_type": "display_data"
    }
   ],
   "source": [
    "# plot the probabilities of the model and color each point by the true label, and add legend to the plot:\n",
    "plt.scatter(range(len(test_eval_results['probabilities'])), test_eval_results['probabilities'], c=test_eval_results['lables'], cmap='coolwarm')\n",
    "plt.colorbar()\n",
    "plt.xlabel('Sample Index')\n",
    "plt.ylabel('Predicted Probability')\n",
    "plt.title('Predicted Probabilities vs. Sample Index')\n",
    "plt.legend(['True Label 0', 'True Label 1'], loc='upper right')\n",
    "plt.show()"
   ]
  },
  {
   "cell_type": "markdown",
   "metadata": {},
   "source": [
    "maybe add class weight and use BCEWithLogitLoss, need to add pos_weight argument. "
   ]
  },
  {
   "cell_type": "code",
   "execution_count": 198,
   "metadata": {},
   "outputs": [],
   "source": [
    "log_experiment_results(\"MLP with Data preprocessing and catgorical one hot encoding\", test_eval_results)"
   ]
  },
  {
   "cell_type": "markdown",
   "metadata": {},
   "source": [
    "## locally connected with skip connections:\n",
    "Add weight dropouts and local connection to encode one hot encoded categorical variables:"
   ]
  },
  {
   "cell_type": "code",
   "execution_count": 200,
   "metadata": {},
   "outputs": [],
   "source": [
    "import torch.nn.functional as F\n",
    "\n",
    "class EnhancedMLPModelNN(nn.Module):\n",
    "    def __init__(self, input_dim, one_hot_idx, one_hot_dim):\n",
    "        super(EnhancedMLPModelNN, self).__init__()\n",
    "        \n",
    "        # Locally connected layer for one-hot encoded features\n",
    "        self.local_fc = nn.Sequential(nn.Linear(sum(one_hot_idx), one_hot_dim*2), \n",
    "                                      nn.LeakyReLU(),\n",
    "                                      nn.Linear(one_hot_dim*2, one_hot_dim))\n",
    "        self.input_dim = input_dim\n",
    "        self.one_hot_dim = one_hot_dim\n",
    "        self.one_hot_idx = one_hot_idx\n",
    "        \n",
    "        # Fully connected layers\n",
    "        self.fc1 = nn.Linear(input_dim - sum(one_hot_idx) + one_hot_dim, 64)\n",
    "        self.fc2 = nn.Linear(64, 32)\n",
    "        self.fc3 = nn.Linear(32, 16)\n",
    "        self.fc4 = nn.Linear(16, 8)\n",
    "        self.fc5 = nn.Linear(8, 4)\n",
    "        self.fc6 = nn.Linear(4, 2)\n",
    "        self.output = nn.Linear(2, 1)\n",
    "        \n",
    "        # Projection layers for skip connections\n",
    "        self.projection1 = nn.Linear(64, 32)  # Project 64-dim (x1) to 32-dim (x2)\n",
    "        self.projection2 = nn.Linear(64, 8)   # Project 16-dim (x1) to 8-dim (x3)\n",
    "        \n",
    "        # Dropout layers\n",
    "        self.dropout1 = nn.Dropout(0.3)\n",
    "        self.dropout2 = nn.Dropout(0.3)\n",
    "        self.dropout3 = nn.Dropout(0.3)\n",
    "\n",
    "    def forward(self, features):\n",
    "        # Split features into numeric and one-hot parts\n",
    "        numeric_features = features[:, ~self.one_hot_idx]\n",
    "        one_hot_features = features[:, self.one_hot_idx]\n",
    "\n",
    "        # Process one-hot encoded features with a locally connected layer\n",
    "        one_hot_out = F.relu(self.local_fc(one_hot_features))\n",
    "        \n",
    "        # Concatenate back the numeric features\n",
    "        x = torch.cat((numeric_features, one_hot_out), dim=1)\n",
    "\n",
    "        # Forward pass with skip connections\n",
    "        x1 = F.relu(self.fc1(x))\n",
    "        x1 = self.dropout1(x1)\n",
    "\n",
    "        x2 = F.relu(self.fc2(x1))\n",
    "        x_projected1 = self.projection1(x1)  # Project x1 to match the dimensions of x2\n",
    "        x2 = self.dropout2(x2 + x_projected1)  # Skip connection\n",
    "\n",
    "        x3 = F.relu(self.fc3(x2))\n",
    "\n",
    "        x4 = F.relu(self.fc4(x3))\n",
    "        x_projected2 = self.projection2(x1)  # Project x2 to match the dimensions of x3\n",
    "        x4 = self.dropout3(x4 + x_projected2)  # Skip connection\n",
    "\n",
    "        x5 = F.relu(self.fc5(x4))\n",
    "        x6 = F.relu(self.fc6(x5))\n",
    "\n",
    "        # Output layer\n",
    "        output = torch.sigmoid(self.output(x6))\n",
    "        \n",
    "        return output\n"
   ]
  },
  {
   "cell_type": "code",
   "execution_count": null,
   "metadata": {},
   "outputs": [],
   "source": [
    "one_hot_idx = X_train.columns.str.startswith('hug') | X_train.columns.str.startswith('faculty')"
   ]
  },
  {
   "cell_type": "code",
   "execution_count": 203,
   "metadata": {},
   "outputs": [],
   "source": [
    "model = EnhancedMLPModelNN(input_dim=X_train.shape[1], one_hot_idx=one_hot_idx, one_hot_dim=8)\n",
    "criterion = nn.MSELoss()  # For binary classification\n",
    "optimizer = optim.AdamW(model.parameters(), lr=0.001, weight_decay=0.005)"
   ]
  },
  {
   "cell_type": "code",
   "execution_count": 204,
   "metadata": {},
   "outputs": [
    {
     "name": "stdout",
     "output_type": "stream",
     "text": [
      "Epoch [1/10], Loss: 0.0573\n",
      "Epoch [2/10], Loss: 0.0493\n",
      "Epoch [3/10], Loss: 0.0487\n",
      "Epoch [4/10], Loss: 0.0485\n",
      "Epoch [5/10], Loss: 0.0484\n",
      "Epoch [6/10], Loss: 0.0483\n",
      "Epoch [7/10], Loss: 0.0483\n",
      "Epoch [8/10], Loss: 0.0481\n",
      "Epoch [9/10], Loss: 0.0481\n",
      "Epoch [10/10], Loss: 0.0481\n",
      "Training complete.\n"
     ]
    }
   ],
   "source": [
    "train_model(model, train_loader, criterion, optimizer, epochs=10, device=device)"
   ]
  },
  {
   "cell_type": "code",
   "execution_count": 205,
   "metadata": {},
   "outputs": [
    {
     "name": "stderr",
     "output_type": "stream",
     "text": [
      "100%|██████████| 340/340 [00:04<00:00, 69.80it/s]\n"
     ]
    },
    {
     "name": "stdout",
     "output_type": "stream",
     "text": [
      "Evaluation Results:\n",
      "Loss: 0.0489\n",
      "Accuracy: 0.6243\n",
      "Precision: 0.0873\n",
      "Recall: 0.6419\n",
      "F1 Score: 0.1538\n",
      "ROC AUC: 0.6835\n"
     ]
    }
   ],
   "source": [
    "test_eval_results = evaluate_model(model, test_loader, criterion, device, threshold=0.05)"
   ]
  },
  {
   "cell_type": "code",
   "execution_count": 206,
   "metadata": {},
   "outputs": [],
   "source": [
    "log_experiment_results(\"Enhanced MLP with skip connections and locally connected encoding for categorical one hot features\", test_eval_results)"
   ]
  },
  {
   "cell_type": "markdown",
   "metadata": {},
   "source": [
    "this is better!"
   ]
  },
  {
   "cell_type": "code",
   "execution_count": 207,
   "metadata": {},
   "outputs": [
    {
     "data": {
      "text/plain": [
       "EnhancedMLPModelNN(\n",
       "  (local_fc): Sequential(\n",
       "    (0): Linear(in_features=131, out_features=16, bias=True)\n",
       "    (1): LeakyReLU(negative_slope=0.01)\n",
       "    (2): Linear(in_features=16, out_features=8, bias=True)\n",
       "  )\n",
       "  (fc1): Linear(in_features=21, out_features=64, bias=True)\n",
       "  (fc2): Linear(in_features=64, out_features=32, bias=True)\n",
       "  (fc3): Linear(in_features=32, out_features=16, bias=True)\n",
       "  (fc4): Linear(in_features=16, out_features=8, bias=True)\n",
       "  (fc5): Linear(in_features=8, out_features=4, bias=True)\n",
       "  (fc6): Linear(in_features=4, out_features=2, bias=True)\n",
       "  (output): Linear(in_features=2, out_features=1, bias=True)\n",
       "  (projection1): Linear(in_features=64, out_features=32, bias=True)\n",
       "  (projection2): Linear(in_features=64, out_features=8, bias=True)\n",
       "  (dropout1): Dropout(p=0.3, inplace=False)\n",
       "  (dropout2): Dropout(p=0.3, inplace=False)\n",
       "  (dropout3): Dropout(p=0.3, inplace=False)\n",
       ")"
      ]
     },
     "execution_count": 207,
     "metadata": {},
     "output_type": "execute_result"
    }
   ],
   "source": [
    "model"
   ]
  },
  {
   "cell_type": "markdown",
   "metadata": {},
   "source": [
    "### save model for prediction: "
   ]
  },
  {
   "cell_type": "code",
   "execution_count": 246,
   "metadata": {},
   "outputs": [],
   "source": [
    "torch.save(model.state_dict(), 'model.pkl')"
   ]
  },
  {
   "cell_type": "markdown",
   "metadata": {},
   "source": [
    "evaluate using existing model: "
   ]
  },
  {
   "cell_type": "code",
   "execution_count": 167,
   "metadata": {},
   "outputs": [
    {
     "data": {
      "text/plain": [
       "EnhancedMLPModelNN(\n",
       "  (local_fc): Sequential(\n",
       "    (0): Linear(in_features=131, out_features=16, bias=True)\n",
       "    (1): LeakyReLU(negative_slope=0.01)\n",
       "    (2): Linear(in_features=16, out_features=8, bias=True)\n",
       "  )\n",
       "  (fc1): Linear(in_features=21, out_features=64, bias=True)\n",
       "  (fc2): Linear(in_features=64, out_features=32, bias=True)\n",
       "  (fc3): Linear(in_features=32, out_features=16, bias=True)\n",
       "  (fc4): Linear(in_features=16, out_features=8, bias=True)\n",
       "  (fc5): Linear(in_features=8, out_features=4, bias=True)\n",
       "  (fc6): Linear(in_features=4, out_features=2, bias=True)\n",
       "  (output): Linear(in_features=2, out_features=1, bias=True)\n",
       "  (projection1): Linear(in_features=64, out_features=32, bias=True)\n",
       "  (projection2): Linear(in_features=64, out_features=8, bias=True)\n",
       "  (dropout1): Dropout(p=0.3, inplace=False)\n",
       "  (dropout2): Dropout(p=0.2, inplace=False)\n",
       "  (dropout3): Dropout(p=0.1, inplace=False)\n",
       ")"
      ]
     },
     "execution_count": 167,
     "metadata": {},
     "output_type": "execute_result"
    }
   ],
   "source": [
    "model = EnhancedMLPModelNN(input_dim=X_train.shape[1], one_hot_idx=one_hot_idx, one_hot_dim=8)\n",
    "model.load_state_dict(torch.load('model.pkl', weights_only=True))\n",
    "model.eval()"
   ]
  },
  {
   "cell_type": "code",
   "execution_count": 264,
   "metadata": {},
   "outputs": [],
   "source": [
    "results_df.to_csv('results.csv', index=False)"
   ]
  },
  {
   "cell_type": "code",
   "execution_count": 265,
   "metadata": {},
   "outputs": [
    {
     "data": {
      "text/html": [
       "<div>\n",
       "<style scoped>\n",
       "    .dataframe tbody tr th:only-of-type {\n",
       "        vertical-align: middle;\n",
       "    }\n",
       "\n",
       "    .dataframe tbody tr th {\n",
       "        vertical-align: top;\n",
       "    }\n",
       "\n",
       "    .dataframe thead th {\n",
       "        text-align: right;\n",
       "    }\n",
       "</style>\n",
       "<table border=\"1\" class=\"dataframe\">\n",
       "  <thead>\n",
       "    <tr style=\"text-align: right;\">\n",
       "      <th></th>\n",
       "      <th>Experiment</th>\n",
       "      <th>Loss</th>\n",
       "      <th>Accuracy</th>\n",
       "      <th>Precision</th>\n",
       "      <th>Recall</th>\n",
       "      <th>F1-Score</th>\n",
       "      <th>AUC-ROC</th>\n",
       "    </tr>\n",
       "  </thead>\n",
       "  <tbody>\n",
       "    <tr>\n",
       "      <th>0</th>\n",
       "      <td>Base Model - MLP</td>\n",
       "      <td>5.659289</td>\n",
       "      <td>0.943412</td>\n",
       "      <td>0.000000</td>\n",
       "      <td>0.000000</td>\n",
       "      <td>0.000000</td>\n",
       "      <td>0.500000</td>\n",
       "    </tr>\n",
       "    <tr>\n",
       "      <th>1</th>\n",
       "      <td>Base Model - MLP with changes in learning rate...</td>\n",
       "      <td>0.219014</td>\n",
       "      <td>0.056588</td>\n",
       "      <td>0.056588</td>\n",
       "      <td>1.000000</td>\n",
       "      <td>0.107115</td>\n",
       "      <td>0.500000</td>\n",
       "    </tr>\n",
       "    <tr>\n",
       "      <th>2</th>\n",
       "      <td>Base Model - more layers MLP</td>\n",
       "      <td>0.217527</td>\n",
       "      <td>0.056588</td>\n",
       "      <td>0.056588</td>\n",
       "      <td>1.000000</td>\n",
       "      <td>0.107115</td>\n",
       "      <td>0.497107</td>\n",
       "    </tr>\n",
       "    <tr>\n",
       "      <th>3</th>\n",
       "      <td>MLP with Data preprocessing and catgorical one...</td>\n",
       "      <td>0.209113</td>\n",
       "      <td>0.053179</td>\n",
       "      <td>0.053179</td>\n",
       "      <td>1.000000</td>\n",
       "      <td>0.100987</td>\n",
       "      <td>0.500000</td>\n",
       "    </tr>\n",
       "    <tr>\n",
       "      <th>4</th>\n",
       "      <td>Enhanced MLP with skip connections and locally...</td>\n",
       "      <td>0.048857</td>\n",
       "      <td>0.624252</td>\n",
       "      <td>0.087335</td>\n",
       "      <td>0.641869</td>\n",
       "      <td>0.153751</td>\n",
       "      <td>0.683510</td>\n",
       "    </tr>\n",
       "  </tbody>\n",
       "</table>\n",
       "</div>"
      ],
      "text/plain": [
       "                                          Experiment      Loss  Accuracy  \\\n",
       "0                                   Base Model - MLP  5.659289  0.943412   \n",
       "1  Base Model - MLP with changes in learning rate...  0.219014  0.056588   \n",
       "2                       Base Model - more layers MLP  0.217527  0.056588   \n",
       "3  MLP with Data preprocessing and catgorical one...  0.209113  0.053179   \n",
       "4  Enhanced MLP with skip connections and locally...  0.048857  0.624252   \n",
       "\n",
       "   Precision    Recall  F1-Score   AUC-ROC  \n",
       "0   0.000000  0.000000  0.000000  0.500000  \n",
       "1   0.056588  1.000000  0.107115  0.500000  \n",
       "2   0.056588  1.000000  0.107115  0.497107  \n",
       "3   0.053179  1.000000  0.100987  0.500000  \n",
       "4   0.087335  0.641869  0.153751  0.683510  "
      ]
     },
     "execution_count": 265,
     "metadata": {},
     "output_type": "execute_result"
    }
   ],
   "source": [
    "results_df"
   ]
  }
 ],
 "metadata": {
  "kernelspec": {
   "display_name": ".venv",
   "language": "python",
   "name": "python3"
  },
  "language_info": {
   "codemirror_mode": {
    "name": "ipython",
    "version": 3
   },
   "file_extension": ".py",
   "mimetype": "text/x-python",
   "name": "python",
   "nbconvert_exporter": "python",
   "pygments_lexer": "ipython3",
   "version": "3.12.3"
  }
 },
 "nbformat": 4,
 "nbformat_minor": 2
}
